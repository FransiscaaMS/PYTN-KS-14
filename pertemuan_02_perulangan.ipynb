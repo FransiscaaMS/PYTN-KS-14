{
 "cells": [
  {
   "attachments": {},
   "cell_type": "markdown",
   "metadata": {},
   "source": [
    "# 02 Perulangan dan Percabangan"
   ]
  },
  {
   "attachments": {},
   "cell_type": "markdown",
   "metadata": {},
   "source": [
    "- Comporation \n",
    "- Operator Logika \n"
   ]
  },
  {
   "attachments": {},
   "cell_type": "markdown",
   "metadata": {},
   "source": [
    "#### Comparison Operators \n",
    "\n",
    "- membandingkan dua nilai \n",
    "- dengan operator relasi\n",
    "  \n",
    "|Operator |\tSimbol |\n",
    "|:--------|:-------|\n",
    "|Lebih Besar|\t> |\n",
    "| Lebih Kecil |\t< |\n",
    "| Sama Dengan\t| == | \n",
    "| Tidak Sama dengan |\t!= |\n",
    "| Lebih Besar Sama dengan |\t>= |\n",
    "| Lebih Kecil Sama dengan |\t<= |"
   ]
  },
  {
   "attachments": {},
   "cell_type": "markdown",
   "metadata": {},
   "source": [
    "#### Operator Logika \n",
    "- operasi logika  ( AND , OR , NOT )\n",
    "\n",
    "|Nama |\tSimbol di Python |\n",
    "|:----|:----------|\n",
    "| Logika AND |\tand |\n",
    "| Logika OR\t| or |\n",
    "| Negasi/kebalikan |\tnot |\n",
    "\n",
    "Contoh : \"and\" \n",
    "\n",
    "|x   and  y | result | \n",
    "|----------:|-----:|\n",
    "|True and True | True |\n",
    "|True and False | False |\n",
    "|False and False | False   | \n",
    "|False and True | False   | \n",
    "\n",
    "Contoh : \"or\" \n",
    "\n",
    "|x   or  y | result | \n",
    "|----------:|-----:|\n",
    "|True or True | True |\n",
    "|True or False | True |\n",
    "|False or True | True |\n",
    "|False or False | False   | \n"
   ]
  },
  {
   "attachments": {},
   "cell_type": "markdown",
   "metadata": {},
   "source": [
    "Grouping statement \n",
    "\n",
    "![alt text](https://i.ibb.co/9WGscpd/Ifstatement.png \"Grouping statement\")"
   ]
  },
  {
   "attachments": {},
   "cell_type": "markdown",
   "metadata": {},
   "source": [
    "## Python if else"
   ]
  },
  {
   "attachments": {},
   "cell_type": "markdown",
   "metadata": {},
   "source": [
    "1. Python if Statement"
   ]
  },
  {
   "attachments": {},
   "cell_type": "markdown",
   "metadata": {},
   "source": [
    "<img src=\"images_02/01_condition_true.png\" width=\"400\" align=\"center\">"
   ]
  },
  {
   "cell_type": "code",
   "execution_count": 36,
   "metadata": {},
   "outputs": [
    {
     "name": "stdout",
     "output_type": "stream",
     "text": [
      "Angka Positif\n",
      "didalam statement if\n",
      "luar dari if statment\n"
     ]
    }
   ],
   "source": [
    "number = 10 \n",
    "if number > 0 : \n",
    "    print(\"Angka Positif\")\n",
    "    print(\"didalam statement if\")\n",
    "print(\"luar dari if statment\")"
   ]
  },
  {
   "cell_type": "code",
   "execution_count": 37,
   "metadata": {},
   "outputs": [
    {
     "name": "stdout",
     "output_type": "stream",
     "text": [
      "9990\n"
     ]
    }
   ],
   "source": [
    "# inputan\n",
    "transaksi = 10000\n",
    "grade = 70 \n",
    "\n",
    "### logic discount ### \n",
    "discount = 10 \n",
    "if grade > 70: \n",
    "    discount = 50\n",
    "### logic ###     \n",
    "\n",
    "total_transaksi = transaksi - discount\n",
    "print(total_transaksi)    "
   ]
  },
  {
   "attachments": {},
   "cell_type": "markdown",
   "metadata": {},
   "source": [
    "<img src=\"images_02/02_condition_false.png\" width=\"400\" align=\"center\">"
   ]
  },
  {
   "cell_type": "code",
   "execution_count": 38,
   "metadata": {},
   "outputs": [
    {
     "name": "stdout",
     "output_type": "stream",
     "text": [
      "di luar dari kondisi if\n"
     ]
    }
   ],
   "source": [
    "number = -5 \n",
    "if number > 0: \n",
    "    print(\"angka positif\")\n",
    "\n",
    "print(\"di luar dari kondisi if\")"
   ]
  },
  {
   "attachments": {},
   "cell_type": "markdown",
   "metadata": {},
   "source": [
    "2. Python if else stament"
   ]
  },
  {
   "attachments": {},
   "cell_type": "markdown",
   "metadata": {},
   "source": [
    "<img src=\"images_02/03_ifelse_true.png\" width=\"400\" align=\"center\">"
   ]
  },
  {
   "cell_type": "code",
   "execution_count": 39,
   "metadata": {},
   "outputs": [
    {
     "name": "stdout",
     "output_type": "stream",
     "text": [
      "Angka positif\n"
     ]
    }
   ],
   "source": [
    "#\n",
    "number = 10 \n",
    "if number > 0: \n",
    "    print(\"Angka positif\")\n",
    "else:\n",
    "    print(\"Angka Negatif\")\n",
    "\n",
    "\n",
    "\n",
    "\n",
    "\n",
    "    print(\"diluar dari kondisi if else\")"
   ]
  },
  {
   "cell_type": "markdown",
   "metadata": {},
   "source": []
  },
  {
   "attachments": {},
   "cell_type": "markdown",
   "metadata": {},
   "source": [
    "<img src=\"images_02/04_ifelse_false.png\" width=\"400\" align=\"center\">"
   ]
  },
  {
   "cell_type": "code",
   "execution_count": 40,
   "metadata": {},
   "outputs": [
    {
     "name": "stdout",
     "output_type": "stream",
     "text": [
      "Angka Negatif\n",
      "diluar dari kondisi if else\n"
     ]
    }
   ],
   "source": [
    "#\n",
    "number = -5 \n",
    "if number > 0: \n",
    "    print(\"Angka positif\")\n",
    "else:\n",
    "    print(\"Angka Negatif\")\n",
    "print(\"diluar dari kondisi if else\")"
   ]
  },
  {
   "attachments": {},
   "cell_type": "markdown",
   "metadata": {},
   "source": [
    "3. If elif else statement"
   ]
  },
  {
   "attachments": {},
   "cell_type": "markdown",
   "metadata": {},
   "source": [
    "<img src=\"images_02/05_if_elif_else.png\" width=\"800\" align=\"center\">"
   ]
  },
  {
   "cell_type": "code",
   "execution_count": 41,
   "metadata": {},
   "outputs": [
    {
     "name": "stdout",
     "output_type": "stream",
     "text": [
      "Angka 0\n",
      "diluar dari kondisi if else\n"
     ]
    }
   ],
   "source": [
    "number = 0 \n",
    "if number > 0: \n",
    "    print(\"Angka positif\")\n",
    "elif number < 0:\n",
    "    print(\"Angka Negatif\")\n",
    "else: \n",
    "    print(\"Angka 0\") \n",
    "       \n",
    "print(\"diluar dari kondisi if else\")"
   ]
  },
  {
   "attachments": {},
   "cell_type": "markdown",
   "metadata": {},
   "source": [
    "4. Nested if statement "
   ]
  },
  {
   "cell_type": "code",
   "execution_count": 42,
   "metadata": {},
   "outputs": [
    {
     "ename": "SyntaxError",
     "evalue": "incomplete input (4061193254.py, line 10)",
     "output_type": "error",
     "traceback": [
      "\u001b[0;36m  Cell \u001b[0;32mIn[42], line 10\u001b[0;36m\u001b[0m\n\u001b[0;31m    \u001b[0m\n\u001b[0m    ^\u001b[0m\n\u001b[0;31mSyntaxError\u001b[0m\u001b[0;31m:\u001b[0m incomplete input\n"
     ]
    }
   ],
   "source": [
    "## if stament \n",
    "if condition1: \n",
    "    #statement pertama\n",
    "    if condition2:\n",
    "        # stamtent kedua \n",
    "        if condition3:\n",
    "            # statement ketiga \n",
    "            if condition4:\n",
    "                # statment ke empat \n",
    "                "
   ]
  },
  {
   "cell_type": "code",
   "execution_count": null,
   "metadata": {},
   "outputs": [
    {
     "name": "stdout",
     "output_type": "stream",
     "text": [
      "dipertimbangkan\n",
      "Karena bebuat baik, maka lulus\n"
     ]
    }
   ],
   "source": [
    "nilai = 59 \n",
    "absen = 8\n",
    "sopan = True\n",
    "\n",
    "if nilai < 60: \n",
    "    print(\"dipertimbangkan\")\n",
    "    if absen < 7:\n",
    "        print(\"Lulus dengan pertimbangan\")\n",
    "    else:\n",
    "        if sopan: \n",
    "            print(\"Karena bebuat baik, maka lulus\")\n",
    "        else:    \n",
    "            print(\"Tidak lulus\")    \n",
    "else:\n",
    "    print(\"Lulus\") "
   ]
  },
  {
   "cell_type": "markdown",
   "metadata": {},
   "source": []
  },
  {
   "cell_type": "code",
   "execution_count": null,
   "metadata": {},
   "outputs": [
    {
     "name": "stdout",
     "output_type": "stream",
     "text": [
      "foo ditemukan\n",
      "Nilai x lebih besar dari Y\n",
      "kondision foo in list\n",
      "Nilai i lebih besar dari j\n",
      "stament terakhir if\n",
      "Selesai\n"
     ]
    }
   ],
   "source": [
    "x=7 \n",
    "y=6\n",
    "i = 2 \n",
    "j = 3\n",
    "if 'foo' in ['foo','bar','baz']:\n",
    "    print(\"foo ditemukan\")\n",
    "    \n",
    "    if x > y :\n",
    "        print(\"Nilai x lebih besar dari Y\")\n",
    "    \n",
    "    print(\"kondision foo in list\")\n",
    "    \n",
    "    if i < j:\n",
    "        print(\"Nilai i lebih besar dari j\")\n",
    "        \n",
    "    print(\"stament terakhir if\")\n",
    "print(\"Selesai\")\n",
    "    "
   ]
  },
  {
   "attachments": {},
   "cell_type": "markdown",
   "metadata": {},
   "source": [
    "### Python Tenary Operation "
   ]
  },
  {
   "attachments": {},
   "cell_type": "markdown",
   "metadata": {},
   "source": [
    " <expr-1-benar> if <condition> else <exp-2-salah>"
   ]
  },
  {
   "cell_type": "code",
   "execution_count": null,
   "metadata": {},
   "outputs": [
    {
     "name": "stdout",
     "output_type": "stream",
     "text": [
      "Hello kondisi salah\n"
     ]
    }
   ],
   "source": [
    "print(\"Hello saya benar\") if \"h\" in \"Helllooooo\" else print(\"Hello kondisi salah\")"
   ]
  },
  {
   "cell_type": "code",
   "execution_count": null,
   "metadata": {},
   "outputs": [
    {
     "name": "stdout",
     "output_type": "stream",
     "text": [
      "Let's go to the ... Library\n"
     ]
    }
   ],
   "source": [
    "raining = True \n",
    "\n",
    "print(\"Let's go to the ...\", \"beach\" if not  raining else \"Library\")"
   ]
  },
  {
   "cell_type": "code",
   "execution_count": null,
   "metadata": {},
   "outputs": [
    {
     "name": "stdout",
     "output_type": "stream",
     "text": [
      "Sudah bisa vaksin\n"
     ]
    }
   ],
   "source": [
    "umur = 10 \n",
    "status_vaksin = \"belum boleh vaksin\" if umur < 5 else \"Sudah bisa vaksin\"\n",
    "\n",
    "print(status_vaksin)"
   ]
  },
  {
   "attachments": {},
   "cell_type": "markdown",
   "metadata": {},
   "source": [
    "Python for loop"
   ]
  },
  {
   "attachments": {},
   "cell_type": "markdown",
   "metadata": {},
   "source": [
    "<img src=\"images_02/06_for_loop.png\" width=\"400\" align=\"center\">"
   ]
  },
  {
   "cell_type": "code",
   "execution_count": 43,
   "metadata": {},
   "outputs": [
    {
     "name": "stdout",
     "output_type": "stream",
     "text": [
      "['Golang', 'Python', 'Java', 'C#', 'Rust', 'Vlang']\n",
      "Bahasa pemrograman \n",
      "Golang\n",
      "Bahasa pemrograman \n",
      "Python\n",
      "Bahasa pemrograman \n",
      "Java\n",
      "Bahasa pemrograman \n",
      "C#\n",
      "Bahasa pemrograman \n",
      "Rust\n",
      "Bahasa pemrograman \n",
      "Vlang\n"
     ]
    }
   ],
   "source": [
    "languages = ['Golang','Python','Java','C#','Rust','Vlang']\n",
    "print(languages)\n",
    "\n",
    "\n",
    "for lang in languages:\n",
    "    print(\"Bahasa pemrograman \")\n",
    "    print(lang)"
   ]
  },
  {
   "cell_type": "markdown",
   "metadata": {},
   "source": []
  },
  {
   "attachments": {},
   "cell_type": "markdown",
   "metadata": {},
   "source": []
  }
 ],
 "metadata": {
  "kernelspec": {
   "display_name": "Python 3",
   "language": "python",
   "name": "python3"
  },
  "language_info": {
   "codemirror_mode": {
    "name": "ipython",
    "version": 3
   },
   "file_extension": ".py",
   "mimetype": "text/x-python",
   "name": "python",
   "nbconvert_exporter": "python",
   "pygments_lexer": "ipython3",
   "version": "3.10.8"
  },
  "orig_nbformat": 4,
  "vscode": {
   "interpreter": {
    "hash": "69011eff3314b354f42a2ba40b1ddc2bfa3dd9877deb2573d0d9019d6ff40d2a"
   }
  }
 },
 "nbformat": 4,
 "nbformat_minor": 2
}
