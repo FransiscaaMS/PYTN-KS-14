{
 "cells": [
  {
   "attachments": {},
   "cell_type": "markdown",
   "metadata": {},
   "source": [
    "# 03 Function , Basic Module "
   ]
  },
  {
   "attachments": {},
   "cell_type": "markdown",
   "metadata": {},
   "source": [
    "![alt text](https://i.ibb.co/t2n5Tcn/Screen-Shot-2021-08-28-at-9-22-55-AM.png \"Function\")"
   ]
  },
  {
   "cell_type": "code",
   "execution_count": 2,
   "metadata": {},
   "outputs": [
    {
     "name": "stdout",
     "output_type": "stream",
     "text": [
      "Hello world!\n",
      "Saya Python\n",
      "Indonesia\n",
      "Kampus merdeka\n"
     ]
    }
   ],
   "source": [
    "print(\"Hello world!\")\n",
    "print(\"Saya Python\")\n",
    "print(\"Indonesia\")\n",
    "print(\"Kampus merdeka\")"
   ]
  },
  {
   "cell_type": "code",
   "execution_count": 3,
   "metadata": {},
   "outputs": [
    {
     "name": "stdout",
     "output_type": "stream",
     "text": [
      "Hello world!\n",
      "Saya Python\n",
      "Indonesia\n",
      "Kampus merdeka\n"
     ]
    }
   ],
   "source": [
    "print(\"Hello world!\")\n",
    "print(\"Saya Python\")\n",
    "print(\"Indonesia\")\n",
    "print(\"Kampus merdeka\")"
   ]
  },
  {
   "cell_type": "code",
   "execution_count": 4,
   "metadata": {},
   "outputs": [],
   "source": [
    "def func_cetak_kata():\n",
    "    print(\"Hello world!\")\n",
    "    print(\"Saya Python\")\n",
    "    print(\"Indonesia\")\n",
    "    print(\"Kampus merdeka\")"
   ]
  },
  {
   "cell_type": "code",
   "execution_count": 5,
   "metadata": {},
   "outputs": [
    {
     "name": "stdout",
     "output_type": "stream",
     "text": [
      "Hello world!\n",
      "Saya Python\n",
      "Indonesia\n",
      "Kampus merdeka\n"
     ]
    }
   ],
   "source": [
    "func_cetak_kata()"
   ]
  },
  {
   "cell_type": "code",
   "execution_count": 6,
   "metadata": {},
   "outputs": [
    {
     "name": "stdout",
     "output_type": "stream",
     "text": [
      "Hello world!\n",
      "Saya Python\n",
      "Indonesia\n",
      "Kampus merdeka\n"
     ]
    }
   ],
   "source": [
    "func_cetak_kata()"
   ]
  },
  {
   "cell_type": "code",
   "execution_count": 7,
   "metadata": {},
   "outputs": [
    {
     "name": "stdout",
     "output_type": "stream",
     "text": [
      "Hello world!\n",
      "Saya Python\n",
      "Indonesia\n",
      "Kampus merdeka\n"
     ]
    }
   ],
   "source": [
    "func_cetak_kata()"
   ]
  },
  {
   "cell_type": "code",
   "execution_count": 11,
   "metadata": {},
   "outputs": [],
   "source": [
    "def tambah_angka(x, y):\n",
    "    \"\"\" \n",
    "    ini adalah function penjumlahan\n",
    "    dari parameter x + parameter y\n",
    "    dan mengembalikan nilai dari penjumlahan\n",
    "    \"\"\"\n",
    "    total = x + y \n",
    "    return total\n"
   ]
  },
  {
   "cell_type": "code",
   "execution_count": 9,
   "metadata": {},
   "outputs": [
    {
     "name": "stdout",
     "output_type": "stream",
     "text": [
      "30\n"
     ]
    }
   ],
   "source": [
    "a = 10 \n",
    "b = 20 \n",
    "hasilc = tambah_angka(a, b)\n",
    "print(hasilc)"
   ]
  },
  {
   "cell_type": "code",
   "execution_count": 10,
   "metadata": {},
   "outputs": [
    {
     "name": "stdout",
     "output_type": "stream",
     "text": [
      "3\n"
     ]
    }
   ],
   "source": [
    "c = 1\n",
    "d = 2 \n",
    "hasilc = tambah_angka(c, d)\n",
    "print(hasilc)"
   ]
  },
  {
   "cell_type": "code",
   "execution_count": 37,
   "metadata": {},
   "outputs": [
    {
     "name": "stdout",
     "output_type": "stream",
     "text": [
      "0\n"
     ]
    },
    {
     "data": {
      "text/plain": [
       "False"
      ]
     },
     "execution_count": 37,
     "metadata": {},
     "output_type": "execute_result"
    }
   ],
   "source": [
    "# buat func cek bilangan ganjil atau genap \n",
    "print( 0 % 2)\n",
    "bool(10 % 2)\n"
   ]
  },
  {
   "cell_type": "code",
   "execution_count": 30,
   "metadata": {},
   "outputs": [
    {
     "name": "stdout",
     "output_type": "stream",
     "text": [
      "Bilangan Ganjil\n"
     ]
    }
   ],
   "source": [
    "x = 11 \n",
    "\n",
    "hasil = x % 2 \n",
    "\n",
    "if hasil == 1: \n",
    "    print(\"Bilangan Ganjil\")\n",
    "else:\n",
    "    print(\"Bilangan Genap\")\n"
   ]
  },
  {
   "cell_type": "code",
   "execution_count": 48,
   "metadata": {},
   "outputs": [],
   "source": [
    "def cekbilangan(angka):\n",
    "    # hasil = angka % 2 \n",
    "    if bool(angka % 2): \n",
    "        print(\"Bilangan Ganjil\")\n",
    "    else:\n",
    "        print(\"Bilangan Genap\")\n"
   ]
  },
  {
   "cell_type": "code",
   "execution_count": 50,
   "metadata": {},
   "outputs": [
    {
     "name": "stdout",
     "output_type": "stream",
     "text": [
      "Bilangan Genap\n"
     ]
    }
   ],
   "source": [
    "y = 12\n",
    "cekbilangan(y)"
   ]
  },
  {
   "cell_type": "code",
   "execution_count": 53,
   "metadata": {},
   "outputs": [
    {
     "name": "stdout",
     "output_type": "stream",
     "text": [
      "10\n",
      "-10\n",
      "\n"
     ]
    }
   ],
   "source": [
    "_angka = 10 \n",
    "print(_angka)\n",
    "A10 = -10\n",
    "print(A10)\n",
    "_ = \"\"\n",
    "print (_)"
   ]
  },
  {
   "cell_type": "code",
   "execution_count": 54,
   "metadata": {},
   "outputs": [
    {
     "ename": "SyntaxError",
     "evalue": "invalid decimal literal (1605794386.py, line 1)",
     "output_type": "error",
     "traceback": [
      "\u001b[0;36m  Cell \u001b[0;32mIn[54], line 1\u001b[0;36m\u001b[0m\n\u001b[0;31m    1huruf = \"A10\"\u001b[0m\n\u001b[0m    ^\u001b[0m\n\u001b[0;31mSyntaxError\u001b[0m\u001b[0;31m:\u001b[0m invalid decimal literal\n"
     ]
    }
   ],
   "source": [
    "1huruf = \"A10\"\n",
    "print(1huruf)"
   ]
  },
  {
   "cell_type": "code",
   "execution_count": null,
   "metadata": {},
   "outputs": [],
   "source": [
    "# Aturan penamaan function\n",
    "- dimulai huruf ( A - Z, a -z )\n",
    "- dimulai menggunakan _ \n",
    "- tidak bisa dimulai menggunakan Angka\n"
   ]
  },
  {
   "cell_type": "code",
   "execution_count": 55,
   "metadata": {},
   "outputs": [
    {
     "name": "stdout",
     "output_type": "stream",
     "text": [
      "Bilangan Genap\n",
      "None\n"
     ]
    }
   ],
   "source": [
    "hasil = cekbilangan(10)\n",
    "print(hasil)"
   ]
  },
  {
   "cell_type": "code",
   "execution_count": 63,
   "metadata": {},
   "outputs": [],
   "source": [
    "def cetak(data):\n",
    "    print(data)\n",
    "    return "
   ]
  },
  {
   "cell_type": "code",
   "execution_count": 64,
   "metadata": {},
   "outputs": [
    {
     "name": "stdout",
     "output_type": "stream",
     "text": [
      "Hello\n",
      "None\n"
     ]
    }
   ],
   "source": [
    "tampung = cetak(\"Hello\")\n",
    "print(tampung)"
   ]
  },
  {
   "attachments": {},
   "cell_type": "markdown",
   "metadata": {},
   "source": [
    "### pass by refence "
   ]
  },
  {
   "cell_type": "code",
   "execution_count": 65,
   "metadata": {},
   "outputs": [
    {
     "name": "stdout",
     "output_type": "stream",
     "text": [
      "isi dari list x [10, 20, 30]\n"
     ]
    }
   ],
   "source": [
    "listx = [10,20,30]\n",
    "print(f\"isi dari list x {listx}\")"
   ]
  },
  {
   "cell_type": "code",
   "execution_count": 66,
   "metadata": {},
   "outputs": [],
   "source": [
    "listx.append(40)"
   ]
  },
  {
   "cell_type": "code",
   "execution_count": 67,
   "metadata": {},
   "outputs": [
    {
     "name": "stdout",
     "output_type": "stream",
     "text": [
      "isi dari list x [10, 20, 30, 40]\n"
     ]
    }
   ],
   "source": [
    "print(f\"isi dari list x {listx}\")"
   ]
  },
  {
   "cell_type": "code",
   "execution_count": 68,
   "metadata": {},
   "outputs": [],
   "source": [
    "def penambahanlist(myList):\n",
    "    myList.append([1,3,5,7])\n",
    "    print(\"penambahan selesai\")"
   ]
  },
  {
   "cell_type": "code",
   "execution_count": 69,
   "metadata": {},
   "outputs": [
    {
     "name": "stdout",
     "output_type": "stream",
     "text": [
      "penambahan selesai\n",
      "None\n"
     ]
    }
   ],
   "source": [
    "list1 = [30,50,70]\n",
    "hasil = penambahanlist(list1)\n",
    "print(hasil)"
   ]
  },
  {
   "cell_type": "code",
   "execution_count": 70,
   "metadata": {},
   "outputs": [
    {
     "name": "stdout",
     "output_type": "stream",
     "text": [
      "[30, 50, 70, [1, 3, 5, 7]]\n"
     ]
    }
   ],
   "source": [
    "print(list1)"
   ]
  },
  {
   "cell_type": "code",
   "execution_count": 71,
   "metadata": {},
   "outputs": [],
   "source": [
    "def perubahanlist(myList):\n",
    "    print(f\"parameter yang dikirim {myList}\")\n",
    "    myList = [9,8,3]\n",
    "    print(f\"parameter myList di assign value baru {myList}\")\n",
    "    print(\"penambahan selesai\")"
   ]
  },
  {
   "cell_type": "code",
   "execution_count": 74,
   "metadata": {},
   "outputs": [
    {
     "name": "stdout",
     "output_type": "stream",
     "text": [
      "parameter yang dikirim [30, 50, 70]\n",
      "parameter myList di assign value baru [9, 8, 3]\n",
      "penambahan selesai\n",
      "hasil setelah panggil func perubahanlist [30, 50, 70]\n"
     ]
    }
   ],
   "source": [
    "list2 = [30,50,70]\n",
    "perubahanlist(list2)\n",
    "print(f\"hasil setelah panggil func perubahanlist {list2}\")"
   ]
  },
  {
   "attachments": {},
   "cell_type": "markdown",
   "metadata": {},
   "source": [
    "## Function Argument \n",
    "\n",
    "* Argumen Posisi\n",
    "* Argumen Kata Kunci\n",
    "* Argumen Default \n",
    "* Argumen Posisi Panjang Variabel (*args)\n",
    "* Argumen Kata Kunci Panjang Variabel (**kwargs)"
   ]
  },
  {
   "attachments": {},
   "cell_type": "markdown",
   "metadata": {},
   "source": []
  },
  {
   "cell_type": "code",
   "execution_count": 75,
   "metadata": {},
   "outputs": [],
   "source": [
    "## function requirement \n",
    "def cetak(data):\n",
    "    print(data)\n",
    "    return "
   ]
  },
  {
   "cell_type": "code",
   "execution_count": 77,
   "metadata": {},
   "outputs": [
    {
     "name": "stdout",
     "output_type": "stream",
     "text": [
      "halo\n"
     ]
    }
   ],
   "source": [
    "cetak(\"halo\")"
   ]
  },
  {
   "cell_type": "code",
   "execution_count": 78,
   "metadata": {},
   "outputs": [],
   "source": [
    "def hitung(x, y):\n",
    "    return x - y"
   ]
  },
  {
   "cell_type": "code",
   "execution_count": 80,
   "metadata": {},
   "outputs": [
    {
     "name": "stdout",
     "output_type": "stream",
     "text": [
      "9900\n"
     ]
    }
   ],
   "source": [
    "amt = 10000\n",
    "disc = 100\n",
    "\n",
    "hasil = hitung(amt,disc)\n",
    "print(hasil)"
   ]
  },
  {
   "cell_type": "code",
   "execution_count": 85,
   "metadata": {},
   "outputs": [],
   "source": [
    "def totalbelanja(amt,disc):\n",
    "    return amt - disc\n"
   ]
  },
  {
   "cell_type": "code",
   "execution_count": 86,
   "metadata": {},
   "outputs": [
    {
     "ename": "TypeError",
     "evalue": "totalbelanja() missing 1 required positional argument: 'disc'",
     "output_type": "error",
     "traceback": [
      "\u001b[0;31m---------------------------------------------------------------------------\u001b[0m",
      "\u001b[0;31mTypeError\u001b[0m                                 Traceback (most recent call last)",
      "Cell \u001b[0;32mIn[86], line 1\u001b[0m\n\u001b[0;32m----> 1\u001b[0m totalbelanja(\u001b[39m100\u001b[39;49m)\n",
      "\u001b[0;31mTypeError\u001b[0m: totalbelanja() missing 1 required positional argument: 'disc'"
     ]
    }
   ],
   "source": [
    "totalbelanja(100)"
   ]
  },
  {
   "cell_type": "code",
   "execution_count": 82,
   "metadata": {},
   "outputs": [
    {
     "name": "stdout",
     "output_type": "stream",
     "text": [
      "49900\n"
     ]
    }
   ],
   "source": [
    "hasil = totalbelanja(disc=100, amt=50000)\n",
    "print(hasil)"
   ]
  },
  {
   "cell_type": "code",
   "execution_count": 87,
   "metadata": {},
   "outputs": [],
   "source": [
    "def totalbelanja2(amt,disc=10):\n",
    "    return amt - disc"
   ]
  },
  {
   "cell_type": "code",
   "execution_count": 89,
   "metadata": {},
   "outputs": [
    {
     "name": "stdout",
     "output_type": "stream",
     "text": [
      "9990\n"
     ]
    }
   ],
   "source": [
    "hasil = totalbelanja2(10000)\n",
    "print(hasil)"
   ]
  },
  {
   "cell_type": "code",
   "execution_count": 90,
   "metadata": {},
   "outputs": [
    {
     "name": "stdout",
     "output_type": "stream",
     "text": [
      "9500\n"
     ]
    }
   ],
   "source": [
    "hasil = totalbelanja2(10000,500)\n",
    "print(hasil)"
   ]
  },
  {
   "attachments": {},
   "cell_type": "markdown",
   "metadata": {},
   "source": [
    "Function Variable length argument  *args  ....  tuple ()"
   ]
  },
  {
   "cell_type": "code",
   "execution_count": 91,
   "metadata": {},
   "outputs": [],
   "source": [
    "def cetakarguments(*args):\n",
    "    print(args)\n",
    "    print(type(args))"
   ]
  },
  {
   "cell_type": "code",
   "execution_count": 93,
   "metadata": {},
   "outputs": [
    {
     "name": "stdout",
     "output_type": "stream",
     "text": [
      "(1, 2, 3, 4, 5, 6, 7, 8, 9, 10, 11, 12, 1, 1)\n",
      "<class 'tuple'>\n"
     ]
    }
   ],
   "source": [
    "cetakarguments(1,2,3,4,5,6,7,8,9,10,11,12,1,1)"
   ]
  },
  {
   "cell_type": "code",
   "execution_count": 96,
   "metadata": {},
   "outputs": [],
   "source": [
    "def cetak(param1, *param2):\n",
    "    print(f\"Parameter 1 : {param1}\")\n",
    "    print(f\"Parameter 2 sebagai args : {param2}\")\n",
    "    for x in param2:\n",
    "        print(f\"Cetak {x}\")\n",
    "    print(\"Function Done\")"
   ]
  },
  {
   "cell_type": "code",
   "execution_count": 98,
   "metadata": {},
   "outputs": [
    {
     "name": "stdout",
     "output_type": "stream",
     "text": [
      "Parameter 1 : Hello\n",
      "Parameter 2 sebagai args : (1, 2, 3, 4, 5, 6, 7, 8, 9, 10, 11)\n",
      "Cetak 1\n",
      "Cetak 2\n",
      "Cetak 3\n",
      "Cetak 4\n",
      "Cetak 5\n",
      "Cetak 6\n",
      "Cetak 7\n",
      "Cetak 8\n",
      "Cetak 9\n",
      "Cetak 10\n",
      "Cetak 11\n",
      "Function Done\n"
     ]
    }
   ],
   "source": [
    "vara = \"Hello\"\n",
    "cetak(vara,1,2,3,4,5,6,7,8,9,10,11)"
   ]
  },
  {
   "cell_type": "code",
   "execution_count": 102,
   "metadata": {},
   "outputs": [],
   "source": [
    "def func_cetak(param1 , param2, param3):\n",
    "    print(f\"param1 = {param1}, param2 = {param2}, param3 = {param3}\")"
   ]
  },
  {
   "cell_type": "code",
   "execution_count": 103,
   "metadata": {},
   "outputs": [
    {
     "name": "stdout",
     "output_type": "stream",
     "text": [
      "param1 = 10, param2 = 20, param3 = {1, 2, 3, 4, 5, 6, 7, 8, 9, 10, 11, 12}\n"
     ]
    }
   ],
   "source": [
    "x = 10\n",
    "z = 20 \n",
    "y = set({1,2,3,4,5,6,7,8,9,10,11,12})\n",
    "func_cetak(x,z,y)"
   ]
  },
  {
   "cell_type": "code",
   "execution_count": 100,
   "metadata": {},
   "outputs": [
    {
     "name": "stdout",
     "output_type": "stream",
     "text": [
      "{1, 2, 3, 4, 5, 6, 7, 8, 9, 10, 11, 12}\n"
     ]
    }
   ],
   "source": [
    "print(y)"
   ]
  },
  {
   "attachments": {},
   "cell_type": "markdown",
   "metadata": {},
   "source": [
    "## kwargs     \n",
    "\n",
    "**args   \n",
    "dictornary atau key value  "
   ]
  },
  {
   "cell_type": "code",
   "execution_count": 106,
   "metadata": {},
   "outputs": [],
   "source": [
    "def cetakarguments(**parameters):\n",
    "    print(parameters)\n",
    "    print(type(parameters))"
   ]
  },
  {
   "cell_type": "code",
   "execution_count": 107,
   "metadata": {},
   "outputs": [
    {
     "name": "stdout",
     "output_type": "stream",
     "text": [
      "{'name': 'ketut', 'job': 'IT', 'description': 'Software Engineer'}\n",
      "<class 'dict'>\n"
     ]
    }
   ],
   "source": [
    "cetakarguments(name=\"ketut\", job=\"IT\", description=\"Software Engineer\")"
   ]
  },
  {
   "cell_type": "code",
   "execution_count": 111,
   "metadata": {},
   "outputs": [
    {
     "name": "stdout",
     "output_type": "stream",
     "text": [
      "<class 'dict'>\n",
      "{'Judul': 'Belajar Python', 'Halaman': 100, 'Harga': 50000}\n",
      "<class 'dict'>\n"
     ]
    }
   ],
   "source": [
    "vardict = {\n",
    "    \"Judul\":\"Belajar Python\",\n",
    "    \"Halaman\": 100,\n",
    "    \"Harga\":50000\n",
    "}\n",
    "print(type(vardict))\n",
    "cetakarguments(**vardict)"
   ]
  },
  {
   "cell_type": "code",
   "execution_count": 113,
   "metadata": {},
   "outputs": [],
   "source": [
    "def func_cetak_all(amt,disc=10, *barang, **pelanggan):\n",
    "    totalbelanja = amt - disc\n",
    "    print(totalbelanja)\n",
    "    print(\"List Item barang belanja :\")\n",
    "    for item in barang:\n",
    "        print(f\"Item : {item}\")\n",
    "    \n",
    "    print(\"Biodata pelanggaan\")\n",
    "    \n",
    "    for k , v in pelanggan.items():\n",
    "        print(f\"{k} : {v}\")    \n",
    "    "
   ]
  },
  {
   "cell_type": "code",
   "execution_count": 115,
   "metadata": {},
   "outputs": [
    {
     "name": "stdout",
     "output_type": "stream",
     "text": [
      "95000\n",
      "List Item barang belanja :\n",
      "Item : Roti\n",
      "Item : Gula\n",
      "Item : Susu\n",
      "Item : Kopi\n",
      "Biodata pelanggaan\n",
      "Nama : iketutg\n",
      "Alamat : Tangerang\n"
     ]
    }
   ],
   "source": [
    "func_cetak_all(100000,5000, *(\"Roti\",\"Gula\",\"Susu\",\"Kopi\"), **{\"Nama\":\"iketutg\",\"Alamat\":\"Tangerang\"})"
   ]
  },
  {
   "attachments": {},
   "cell_type": "markdown",
   "metadata": {},
   "source": [
    "## function multiple return values "
   ]
  },
  {
   "cell_type": "code",
   "execution_count": 116,
   "metadata": {},
   "outputs": [],
   "source": [
    "def func_loyalty(amt,disc=10, *barang, **pelanggan):\n",
    "    totalbelanja = amt - disc\n",
    "    print(totalbelanja)\n",
    "    print(\"List Item barang belanja :\")\n",
    "    for item in barang:\n",
    "        print(f\"Item : {item}\")\n",
    "    \n",
    "    print(\"Biodata pelanggaan\")\n",
    "    \n",
    "    for k , v in pelanggan.items():\n",
    "        print(f\"{k} : {v}\") \n",
    "    \n",
    "    tipe_pelanggan =\"Standard\"\n",
    "    if totalbelanja >= 1000000: \n",
    "        tipe_pelanggan = \"Platinum\"\n",
    "    elif totalbelanja >=500000 and totalbelanja<1000000:    \n",
    "        tipe_pelanggan = \"Gold\"\n",
    "    elif totalbelanja >=100000 and totalbelanja < 500000:\n",
    "        tipe_pelanggan = \"Silver\"    \n",
    "    \n",
    "    return totalbelanja, tipe_pelanggan   "
   ]
  },
  {
   "cell_type": "code",
   "execution_count": 121,
   "metadata": {},
   "outputs": [
    {
     "name": "stdout",
     "output_type": "stream",
     "text": [
      "950000\n",
      "List Item barang belanja :\n",
      "Item : Roti\n",
      "Item : Gula\n",
      "Item : Susu\n",
      "Item : Kopi\n",
      "Biodata pelanggaan\n",
      "Nama : iketutg\n",
      "Alamat : Tangerang\n",
      "\n",
      "################\n",
      "Bayar : 950000\n",
      "Tipe pelanggan : Gold\n"
     ]
    }
   ],
   "source": [
    "amt = 1000000\n",
    "disc = 50000\n",
    "barang = (\"Roti\",\"Gula\",\"Susu\",\"Kopi\")\n",
    "pelanggan = {\"Nama\":\"iketutg\",\"Alamat\":\"Tangerang\"}\n",
    "\n",
    "bayar, tipe_plg  = func_loyalty(amt,disc, *barang, **pelanggan)\n",
    "\n",
    "print(f\"\\n################\")\n",
    "print(f\"Bayar : {bayar}\")\n",
    "print(f\"Tipe pelanggan : {tipe_plg}\")"
   ]
  },
  {
   "attachments": {},
   "cell_type": "markdown",
   "metadata": {},
   "source": [
    "## Scope Variable \n",
    "private \n",
    "global \n"
   ]
  },
  {
   "cell_type": "code",
   "execution_count": 122,
   "metadata": {},
   "outputs": [],
   "source": [
    "def jumlah(args1, args2):\n",
    "    total = args1 + args2\n",
    "    print(f\"Nilai total didalam function {total}\")\n",
    "    return total"
   ]
  },
  {
   "cell_type": "code",
   "execution_count": 123,
   "metadata": {},
   "outputs": [
    {
     "name": "stdout",
     "output_type": "stream",
     "text": [
      "Nilai total didalam function 300\n",
      "0\n"
     ]
    }
   ],
   "source": [
    "total  = 0 \n",
    "args1 = 200 \n",
    "args2 = 100\n",
    "jumlah(args1, args2)\n",
    "\n",
    "print(total)"
   ]
  },
  {
   "cell_type": "code",
   "execution_count": 124,
   "metadata": {},
   "outputs": [
    {
     "name": "stdout",
     "output_type": "stream",
     "text": [
      "Nilai total didalam function 300\n",
      "300\n"
     ]
    }
   ],
   "source": [
    "total  = 0 \n",
    "args1 = 200 \n",
    "args2 = 100\n",
    "total = jumlah(args1, args2)\n",
    "\n",
    "print(total)"
   ]
  },
  {
   "cell_type": "code",
   "execution_count": 125,
   "metadata": {},
   "outputs": [],
   "source": [
    "def jumlahdic(args1, args2):\n",
    "    total = args1 + args2 - disc\n",
    "    print(f\"Nilai total didalam function {total}\")\n",
    "    return total"
   ]
  },
  {
   "cell_type": "code",
   "execution_count": 126,
   "metadata": {},
   "outputs": [
    {
     "name": "stdout",
     "output_type": "stream",
     "text": [
      "Nilai total didalam function 200\n"
     ]
    },
    {
     "data": {
      "text/plain": [
       "200"
      ]
     },
     "execution_count": 126,
     "metadata": {},
     "output_type": "execute_result"
    }
   ],
   "source": [
    "disc = 100\n",
    "args1 = 200 \n",
    "args2 = 100\n",
    "jumlahdic(args1, args2)"
   ]
  },
  {
   "cell_type": "code",
   "execution_count": 127,
   "metadata": {},
   "outputs": [],
   "source": [
    "def outer(a, b):\n",
    "    def iner(c, d):\n",
    "        return c+d\n",
    "    \n",
    "    return iner(a,b)\n"
   ]
  },
  {
   "cell_type": "code",
   "execution_count": 129,
   "metadata": {},
   "outputs": [
    {
     "name": "stdout",
     "output_type": "stream",
     "text": [
      "30\n"
     ]
    }
   ],
   "source": [
    "hasil = outer(10,20)\n",
    "print(hasil)"
   ]
  },
  {
   "attachments": {},
   "cell_type": "markdown",
   "metadata": {},
   "source": [
    "## Polindrome \n",
    "a\n",
    "ABCDCBA  --> polindrome \n",
    "maam  ---> polindrome "
   ]
  },
  {
   "cell_type": "code",
   "execution_count": 130,
   "metadata": {},
   "outputs": [],
   "source": [
    "def cekpolindrome(kata):\n",
    "    if len(kata) < 2:\n",
    "        return True\n",
    "    \n",
    "    if kata[0] != kata[-1]:\n",
    "        return False\n",
    "    \n",
    "    return cekpolindrome(kata[1:-1])\n",
    "    "
   ]
  },
  {
   "cell_type": "code",
   "execution_count": 134,
   "metadata": {},
   "outputs": [
    {
     "name": "stdout",
     "output_type": "stream",
     "text": [
      "Polindrom : dari kata ABCDXYDCBA adalah : False \n"
     ]
    }
   ],
   "source": [
    "kata = \"ABCDXYDCBA\"\n",
    "hasil= cekpolindrome(kata)\n",
    "\n",
    "print(f\"Polindrom : dari kata {kata} adalah : {hasil} \")"
   ]
  },
  {
   "attachments": {},
   "cell_type": "markdown",
   "metadata": {},
   "source": [
    "## Lambda Function"
   ]
  },
  {
   "cell_type": "code",
   "execution_count": 136,
   "metadata": {},
   "outputs": [],
   "source": [
    "perkalian_a = lambda args1, args2: args1 * args2"
   ]
  },
  {
   "cell_type": "code",
   "execution_count": 137,
   "metadata": {},
   "outputs": [],
   "source": [
    "def perkalian_b(args1, args2):\n",
    "    return args1 * args2"
   ]
  },
  {
   "cell_type": "code",
   "execution_count": 138,
   "metadata": {},
   "outputs": [
    {
     "name": "stdout",
     "output_type": "stream",
     "text": [
      " func lambda perkalian :  100\n",
      " func standard perkalian :  100\n"
     ]
    }
   ],
   "source": [
    "print(f\" func lambda perkalian : \", perkalian_a(10,10))\n",
    "print(f\" func standard perkalian : \", perkalian_b(10,10))"
   ]
  },
  {
   "cell_type": "code",
   "execution_count": 139,
   "metadata": {},
   "outputs": [
    {
     "name": "stdout",
     "output_type": "stream",
     "text": [
      "Requirement already satisfied: numpy in /Users/iketutg/.pyenv/versions/3.10.8/lib/python3.10/site-packages (1.24.2)\n",
      "\n",
      "\u001b[1m[\u001b[0m\u001b[34;49mnotice\u001b[0m\u001b[1;39;49m]\u001b[0m\u001b[39;49m A new release of pip is available: \u001b[0m\u001b[31;49m23.0\u001b[0m\u001b[39;49m -> \u001b[0m\u001b[32;49m23.0.1\u001b[0m\n",
      "\u001b[1m[\u001b[0m\u001b[34;49mnotice\u001b[0m\u001b[1;39;49m]\u001b[0m\u001b[39;49m To update, run: \u001b[0m\u001b[32;49mpip install --upgrade pip\u001b[0m\n",
      "Note: you may need to restart the kernel to use updated packages.\n"
     ]
    }
   ],
   "source": [
    "pip install numpy "
   ]
  },
  {
   "cell_type": "code",
   "execution_count": 140,
   "metadata": {},
   "outputs": [
    {
     "name": "stdout",
     "output_type": "stream",
     "text": [
      "Requirement already satisfied: pyttsx3 in /Users/iketutg/.pyenv/versions/3.10.8/lib/python3.10/site-packages (2.90)\n",
      "Requirement already satisfied: pyobjc>=2.4 in /Users/iketutg/.pyenv/versions/3.10.8/lib/python3.10/site-packages (from pyttsx3) (9.0.1)\n",
      "Requirement already satisfied: pyobjc-framework-MapKit==9.0.1 in /Users/iketutg/.pyenv/versions/3.10.8/lib/python3.10/site-packages (from pyobjc>=2.4->pyttsx3) (9.0.1)\n",
      "Requirement already satisfied: pyobjc-framework-ApplicationServices==9.0.1 in /Users/iketutg/.pyenv/versions/3.10.8/lib/python3.10/site-packages (from pyobjc>=2.4->pyttsx3) (9.0.1)\n",
      "Requirement already satisfied: pyobjc-framework-ColorSync==9.0.1 in /Users/iketutg/.pyenv/versions/3.10.8/lib/python3.10/site-packages (from pyobjc>=2.4->pyttsx3) (9.0.1)\n",
      "Requirement already satisfied: pyobjc-framework-SoundAnalysis==9.0.1 in /Users/iketutg/.pyenv/versions/3.10.8/lib/python3.10/site-packages (from pyobjc>=2.4->pyttsx3) (9.0.1)\n",
      "Requirement already satisfied: pyobjc-framework-VideoSubscriberAccount==9.0.1 in /Users/iketutg/.pyenv/versions/3.10.8/lib/python3.10/site-packages (from pyobjc>=2.4->pyttsx3) (9.0.1)\n",
      "Requirement already satisfied: pyobjc-framework-CloudKit==9.0.1 in /Users/iketutg/.pyenv/versions/3.10.8/lib/python3.10/site-packages (from pyobjc>=2.4->pyttsx3) (9.0.1)\n",
      "Requirement already satisfied: pyobjc-framework-LatentSemanticMapping==9.0.1 in /Users/iketutg/.pyenv/versions/3.10.8/lib/python3.10/site-packages (from pyobjc>=2.4->pyttsx3) (9.0.1)\n",
      "Requirement already satisfied: pyobjc-framework-ScriptingBridge==9.0.1 in /Users/iketutg/.pyenv/versions/3.10.8/lib/python3.10/site-packages (from pyobjc>=2.4->pyttsx3) (9.0.1)\n",
      "Requirement already satisfied: pyobjc-framework-CoreHaptics==9.0.1 in /Users/iketutg/.pyenv/versions/3.10.8/lib/python3.10/site-packages (from pyobjc>=2.4->pyttsx3) (9.0.1)\n",
      "Requirement already satisfied: pyobjc-framework-StoreKit==9.0.1 in /Users/iketutg/.pyenv/versions/3.10.8/lib/python3.10/site-packages (from pyobjc>=2.4->pyttsx3) (9.0.1)\n",
      "Requirement already satisfied: pyobjc-framework-WebKit==9.0.1 in /Users/iketutg/.pyenv/versions/3.10.8/lib/python3.10/site-packages (from pyobjc>=2.4->pyttsx3) (9.0.1)\n",
      "Requirement already satisfied: pyobjc-framework-Cocoa==9.0.1 in /Users/iketutg/.pyenv/versions/3.10.8/lib/python3.10/site-packages (from pyobjc>=2.4->pyttsx3) (9.0.1)\n",
      "Requirement already satisfied: pyobjc-framework-LocalAuthentication==9.0.1 in /Users/iketutg/.pyenv/versions/3.10.8/lib/python3.10/site-packages (from pyobjc>=2.4->pyttsx3) (9.0.1)\n",
      "Requirement already satisfied: pyobjc-framework-DictionaryServices==9.0.1 in /Users/iketutg/.pyenv/versions/3.10.8/lib/python3.10/site-packages (from pyobjc>=2.4->pyttsx3) (9.0.1)\n",
      "Requirement already satisfied: pyobjc-framework-ExternalAccessory==9.0.1 in /Users/iketutg/.pyenv/versions/3.10.8/lib/python3.10/site-packages (from pyobjc>=2.4->pyttsx3) (9.0.1)\n",
      "Requirement already satisfied: pyobjc-framework-UserNotifications==9.0.1 in /Users/iketutg/.pyenv/versions/3.10.8/lib/python3.10/site-packages (from pyobjc>=2.4->pyttsx3) (9.0.1)\n",
      "Requirement already satisfied: pyobjc-framework-CoreWLAN==9.0.1 in /Users/iketutg/.pyenv/versions/3.10.8/lib/python3.10/site-packages (from pyobjc>=2.4->pyttsx3) (9.0.1)\n",
      "Requirement already satisfied: pyobjc-framework-VideoToolbox==9.0.1 in /Users/iketutg/.pyenv/versions/3.10.8/lib/python3.10/site-packages (from pyobjc>=2.4->pyttsx3) (9.0.1)\n",
      "Requirement already satisfied: pyobjc-framework-ClassKit==9.0.1 in /Users/iketutg/.pyenv/versions/3.10.8/lib/python3.10/site-packages (from pyobjc>=2.4->pyttsx3) (9.0.1)\n",
      "Requirement already satisfied: pyobjc-framework-NotificationCenter==9.0.1 in /Users/iketutg/.pyenv/versions/3.10.8/lib/python3.10/site-packages (from pyobjc>=2.4->pyttsx3) (9.0.1)\n",
      "Requirement already satisfied: pyobjc-framework-NetworkExtension==9.0.1 in /Users/iketutg/.pyenv/versions/3.10.8/lib/python3.10/site-packages (from pyobjc>=2.4->pyttsx3) (9.0.1)\n",
      "Requirement already satisfied: pyobjc-framework-CFNetwork==9.0.1 in /Users/iketutg/.pyenv/versions/3.10.8/lib/python3.10/site-packages (from pyobjc>=2.4->pyttsx3) (9.0.1)\n",
      "Requirement already satisfied: pyobjc-framework-CoreML==9.0.1 in /Users/iketutg/.pyenv/versions/3.10.8/lib/python3.10/site-packages (from pyobjc>=2.4->pyttsx3) (9.0.1)\n",
      "Requirement already satisfied: pyobjc-framework-iTunesLibrary==9.0.1 in /Users/iketutg/.pyenv/versions/3.10.8/lib/python3.10/site-packages (from pyobjc>=2.4->pyttsx3) (9.0.1)\n",
      "Requirement already satisfied: pyobjc-framework-QuickLookThumbnailing==9.0.1 in /Users/iketutg/.pyenv/versions/3.10.8/lib/python3.10/site-packages (from pyobjc>=2.4->pyttsx3) (9.0.1)\n",
      "Requirement already satisfied: pyobjc-framework-CoreMedia==9.0.1 in /Users/iketutg/.pyenv/versions/3.10.8/lib/python3.10/site-packages (from pyobjc>=2.4->pyttsx3) (9.0.1)\n",
      "Requirement already satisfied: pyobjc-framework-UniformTypeIdentifiers==9.0.1 in /Users/iketutg/.pyenv/versions/3.10.8/lib/python3.10/site-packages (from pyobjc>=2.4->pyttsx3) (9.0.1)\n",
      "Requirement already satisfied: pyobjc-framework-CoreAudioKit==9.0.1 in /Users/iketutg/.pyenv/versions/3.10.8/lib/python3.10/site-packages (from pyobjc>=2.4->pyttsx3) (9.0.1)\n",
      "Requirement already satisfied: pyobjc-framework-AuthenticationServices==9.0.1 in /Users/iketutg/.pyenv/versions/3.10.8/lib/python3.10/site-packages (from pyobjc>=2.4->pyttsx3) (9.0.1)\n",
      "Requirement already satisfied: pyobjc-framework-ExecutionPolicy==9.0.1 in /Users/iketutg/.pyenv/versions/3.10.8/lib/python3.10/site-packages (from pyobjc>=2.4->pyttsx3) (9.0.1)\n",
      "Requirement already satisfied: pyobjc-framework-SystemConfiguration==9.0.1 in /Users/iketutg/.pyenv/versions/3.10.8/lib/python3.10/site-packages (from pyobjc>=2.4->pyttsx3) (9.0.1)\n",
      "Requirement already satisfied: pyobjc-framework-ExceptionHandling==9.0.1 in /Users/iketutg/.pyenv/versions/3.10.8/lib/python3.10/site-packages (from pyobjc>=2.4->pyttsx3) (9.0.1)\n",
      "Requirement already satisfied: pyobjc-framework-InstantMessage==9.0.1 in /Users/iketutg/.pyenv/versions/3.10.8/lib/python3.10/site-packages (from pyobjc>=2.4->pyttsx3) (9.0.1)\n",
      "Requirement already satisfied: pyobjc-framework-PushKit==9.0.1 in /Users/iketutg/.pyenv/versions/3.10.8/lib/python3.10/site-packages (from pyobjc>=2.4->pyttsx3) (9.0.1)\n",
      "Requirement already satisfied: pyobjc-framework-CoreLocation==9.0.1 in /Users/iketutg/.pyenv/versions/3.10.8/lib/python3.10/site-packages (from pyobjc>=2.4->pyttsx3) (9.0.1)\n",
      "Requirement already satisfied: pyobjc-framework-FSEvents==9.0.1 in /Users/iketutg/.pyenv/versions/3.10.8/lib/python3.10/site-packages (from pyobjc>=2.4->pyttsx3) (9.0.1)\n",
      "Requirement already satisfied: pyobjc-framework-CoreServices==9.0.1 in /Users/iketutg/.pyenv/versions/3.10.8/lib/python3.10/site-packages (from pyobjc>=2.4->pyttsx3) (9.0.1)\n",
      "Requirement already satisfied: pyobjc-framework-Social==9.0.1 in /Users/iketutg/.pyenv/versions/3.10.8/lib/python3.10/site-packages (from pyobjc>=2.4->pyttsx3) (9.0.1)\n",
      "Requirement already satisfied: pyobjc-framework-ReplayKit==9.0.1 in /Users/iketutg/.pyenv/versions/3.10.8/lib/python3.10/site-packages (from pyobjc>=2.4->pyttsx3) (9.0.1)\n",
      "Requirement already satisfied: pyobjc-framework-MetalPerformanceShaders==9.0.1 in /Users/iketutg/.pyenv/versions/3.10.8/lib/python3.10/site-packages (from pyobjc>=2.4->pyttsx3) (9.0.1)\n",
      "Requirement already satisfied: pyobjc-framework-GameKit==9.0.1 in /Users/iketutg/.pyenv/versions/3.10.8/lib/python3.10/site-packages (from pyobjc>=2.4->pyttsx3) (9.0.1)\n",
      "Requirement already satisfied: pyobjc-framework-MetalKit==9.0.1 in /Users/iketutg/.pyenv/versions/3.10.8/lib/python3.10/site-packages (from pyobjc>=2.4->pyttsx3) (9.0.1)\n",
      "Requirement already satisfied: pyobjc-framework-BusinessChat==9.0.1 in /Users/iketutg/.pyenv/versions/3.10.8/lib/python3.10/site-packages (from pyobjc>=2.4->pyttsx3) (9.0.1)\n",
      "Requirement already satisfied: pyobjc-framework-KernelManagement==9.0.1 in /Users/iketutg/.pyenv/versions/3.10.8/lib/python3.10/site-packages (from pyobjc>=2.4->pyttsx3) (9.0.1)\n",
      "Requirement already satisfied: pyobjc-framework-AppleScriptObjC==9.0.1 in /Users/iketutg/.pyenv/versions/3.10.8/lib/python3.10/site-packages (from pyobjc>=2.4->pyttsx3) (9.0.1)\n",
      "Requirement already satisfied: pyobjc-framework-NetFS==9.0.1 in /Users/iketutg/.pyenv/versions/3.10.8/lib/python3.10/site-packages (from pyobjc>=2.4->pyttsx3) (9.0.1)\n",
      "Requirement already satisfied: pyobjc-framework-Contacts==9.0.1 in /Users/iketutg/.pyenv/versions/3.10.8/lib/python3.10/site-packages (from pyobjc>=2.4->pyttsx3) (9.0.1)\n",
      "Requirement already satisfied: pyobjc-framework-CoreBluetooth==9.0.1 in /Users/iketutg/.pyenv/versions/3.10.8/lib/python3.10/site-packages (from pyobjc>=2.4->pyttsx3) (9.0.1)\n",
      "Requirement already satisfied: pyobjc-framework-MediaToolbox==9.0.1 in /Users/iketutg/.pyenv/versions/3.10.8/lib/python3.10/site-packages (from pyobjc>=2.4->pyttsx3) (9.0.1)\n",
      "Requirement already satisfied: pyobjc-framework-PencilKit==9.0.1 in /Users/iketutg/.pyenv/versions/3.10.8/lib/python3.10/site-packages (from pyobjc>=2.4->pyttsx3) (9.0.1)\n",
      "Requirement already satisfied: pyobjc-framework-MetalPerformanceShadersGraph==9.0.1 in /Users/iketutg/.pyenv/versions/3.10.8/lib/python3.10/site-packages (from pyobjc>=2.4->pyttsx3) (9.0.1)\n",
      "Requirement already satisfied: pyobjc-framework-PhotosUI==9.0.1 in /Users/iketutg/.pyenv/versions/3.10.8/lib/python3.10/site-packages (from pyobjc>=2.4->pyttsx3) (9.0.1)\n",
      "Requirement already satisfied: pyobjc-framework-SceneKit==9.0.1 in /Users/iketutg/.pyenv/versions/3.10.8/lib/python3.10/site-packages (from pyobjc>=2.4->pyttsx3) (9.0.1)\n",
      "Requirement already satisfied: pyobjc-framework-DiskArbitration==9.0.1 in /Users/iketutg/.pyenv/versions/3.10.8/lib/python3.10/site-packages (from pyobjc>=2.4->pyttsx3) (9.0.1)\n",
      "Requirement already satisfied: pyobjc-framework-AVFoundation==9.0.1 in /Users/iketutg/.pyenv/versions/3.10.8/lib/python3.10/site-packages (from pyobjc>=2.4->pyttsx3) (9.0.1)\n",
      "Requirement already satisfied: pyobjc-framework-OSLog==9.0.1 in /Users/iketutg/.pyenv/versions/3.10.8/lib/python3.10/site-packages (from pyobjc>=2.4->pyttsx3) (9.0.1)\n",
      "Requirement already satisfied: pyobjc-framework-CoreAudio==9.0.1 in /Users/iketutg/.pyenv/versions/3.10.8/lib/python3.10/site-packages (from pyobjc>=2.4->pyttsx3) (9.0.1)\n",
      "Requirement already satisfied: pyobjc-framework-Speech==9.0.1 in /Users/iketutg/.pyenv/versions/3.10.8/lib/python3.10/site-packages (from pyobjc>=2.4->pyttsx3) (9.0.1)\n",
      "Requirement already satisfied: pyobjc-framework-CoreData==9.0.1 in /Users/iketutg/.pyenv/versions/3.10.8/lib/python3.10/site-packages (from pyobjc>=2.4->pyttsx3) (9.0.1)\n",
      "Requirement already satisfied: pyobjc-framework-UserNotificationsUI==9.0.1 in /Users/iketutg/.pyenv/versions/3.10.8/lib/python3.10/site-packages (from pyobjc>=2.4->pyttsx3) (9.0.1)\n",
      "Requirement already satisfied: pyobjc-framework-ScreenTime==9.0.1 in /Users/iketutg/.pyenv/versions/3.10.8/lib/python3.10/site-packages (from pyobjc>=2.4->pyttsx3) (9.0.1)\n",
      "Requirement already satisfied: pyobjc-framework-FileProvider==9.0.1 in /Users/iketutg/.pyenv/versions/3.10.8/lib/python3.10/site-packages (from pyobjc>=2.4->pyttsx3) (9.0.1)\n",
      "Requirement already satisfied: pyobjc-framework-AppTrackingTransparency==9.0.1 in /Users/iketutg/.pyenv/versions/3.10.8/lib/python3.10/site-packages (from pyobjc>=2.4->pyttsx3) (9.0.1)\n",
      "Requirement already satisfied: pyobjc-framework-Quartz==9.0.1 in /Users/iketutg/.pyenv/versions/3.10.8/lib/python3.10/site-packages (from pyobjc>=2.4->pyttsx3) (9.0.1)\n",
      "Requirement already satisfied: pyobjc-framework-DiscRecording==9.0.1 in /Users/iketutg/.pyenv/versions/3.10.8/lib/python3.10/site-packages (from pyobjc>=2.4->pyttsx3) (9.0.1)\n",
      "Requirement already satisfied: pyobjc-framework-OSAKit==9.0.1 in /Users/iketutg/.pyenv/versions/3.10.8/lib/python3.10/site-packages (from pyobjc>=2.4->pyttsx3) (9.0.1)\n",
      "Requirement already satisfied: pyobjc-framework-InstallerPlugins==9.0.1 in /Users/iketutg/.pyenv/versions/3.10.8/lib/python3.10/site-packages (from pyobjc>=2.4->pyttsx3) (9.0.1)\n",
      "Requirement already satisfied: pyobjc-framework-IMServicePlugIn==9.0.1 in /Users/iketutg/.pyenv/versions/3.10.8/lib/python3.10/site-packages (from pyobjc>=2.4->pyttsx3) (9.0.1)\n",
      "Requirement already satisfied: pyobjc-framework-AddressBook==9.0.1 in /Users/iketutg/.pyenv/versions/3.10.8/lib/python3.10/site-packages (from pyobjc>=2.4->pyttsx3) (9.0.1)\n",
      "Requirement already satisfied: pyobjc-framework-CalendarStore==9.0.1 in /Users/iketutg/.pyenv/versions/3.10.8/lib/python3.10/site-packages (from pyobjc>=2.4->pyttsx3) (9.0.1)\n",
      "Requirement already satisfied: pyobjc-framework-Security==9.0.1 in /Users/iketutg/.pyenv/versions/3.10.8/lib/python3.10/site-packages (from pyobjc>=2.4->pyttsx3) (9.0.1)\n",
      "Requirement already satisfied: pyobjc-framework-CoreMotion==9.0.1 in /Users/iketutg/.pyenv/versions/3.10.8/lib/python3.10/site-packages (from pyobjc>=2.4->pyttsx3) (9.0.1)\n",
      "Requirement already satisfied: pyobjc-framework-SearchKit==9.0.1 in /Users/iketutg/.pyenv/versions/3.10.8/lib/python3.10/site-packages (from pyobjc>=2.4->pyttsx3) (9.0.1)\n",
      "Requirement already satisfied: pyobjc-framework-SafariServices==9.0.1 in /Users/iketutg/.pyenv/versions/3.10.8/lib/python3.10/site-packages (from pyobjc>=2.4->pyttsx3) (9.0.1)\n",
      "Requirement already satisfied: pyobjc-framework-CoreMIDI==9.0.1 in /Users/iketutg/.pyenv/versions/3.10.8/lib/python3.10/site-packages (from pyobjc>=2.4->pyttsx3) (9.0.1)\n",
      "Requirement already satisfied: pyobjc-framework-CallKit==9.0.1 in /Users/iketutg/.pyenv/versions/3.10.8/lib/python3.10/site-packages (from pyobjc>=2.4->pyttsx3) (9.0.1)\n",
      "Requirement already satisfied: pyobjc-framework-EventKit==9.0.1 in /Users/iketutg/.pyenv/versions/3.10.8/lib/python3.10/site-packages (from pyobjc>=2.4->pyttsx3) (9.0.1)\n",
      "Requirement already satisfied: pyobjc-framework-AVKit==9.0.1 in /Users/iketutg/.pyenv/versions/3.10.8/lib/python3.10/site-packages (from pyobjc>=2.4->pyttsx3) (9.0.1)\n",
      "Requirement already satisfied: pyobjc-framework-GameController==9.0.1 in /Users/iketutg/.pyenv/versions/3.10.8/lib/python3.10/site-packages (from pyobjc>=2.4->pyttsx3) (9.0.1)\n",
      "Requirement already satisfied: pyobjc-framework-CoreSpotlight==9.0.1 in /Users/iketutg/.pyenv/versions/3.10.8/lib/python3.10/site-packages (from pyobjc>=2.4->pyttsx3) (9.0.1)\n",
      "Requirement already satisfied: pyobjc-framework-AdSupport==9.0.1 in /Users/iketutg/.pyenv/versions/3.10.8/lib/python3.10/site-packages (from pyobjc>=2.4->pyttsx3) (9.0.1)\n",
      "Requirement already satisfied: pyobjc-framework-SpriteKit==9.0.1 in /Users/iketutg/.pyenv/versions/3.10.8/lib/python3.10/site-packages (from pyobjc>=2.4->pyttsx3) (9.0.1)\n",
      "Requirement already satisfied: pyobjc-framework-NaturalLanguage==9.0.1 in /Users/iketutg/.pyenv/versions/3.10.8/lib/python3.10/site-packages (from pyobjc>=2.4->pyttsx3) (9.0.1)\n",
      "Requirement already satisfied: pyobjc-framework-ModelIO==9.0.1 in /Users/iketutg/.pyenv/versions/3.10.8/lib/python3.10/site-packages (from pyobjc>=2.4->pyttsx3) (9.0.1)\n",
      "Requirement already satisfied: pyobjc-framework-IOSurface==9.0.1 in /Users/iketutg/.pyenv/versions/3.10.8/lib/python3.10/site-packages (from pyobjc>=2.4->pyttsx3) (9.0.1)\n",
      "Requirement already satisfied: pyobjc-framework-ContactsUI==9.0.1 in /Users/iketutg/.pyenv/versions/3.10.8/lib/python3.10/site-packages (from pyobjc>=2.4->pyttsx3) (9.0.1)\n",
      "Requirement already satisfied: pyobjc-framework-Photos==9.0.1 in /Users/iketutg/.pyenv/versions/3.10.8/lib/python3.10/site-packages (from pyobjc>=2.4->pyttsx3) (9.0.1)\n",
      "Requirement already satisfied: pyobjc-framework-ScreenSaver==9.0.1 in /Users/iketutg/.pyenv/versions/3.10.8/lib/python3.10/site-packages (from pyobjc>=2.4->pyttsx3) (9.0.1)\n",
      "Requirement already satisfied: pyobjc-framework-LinkPresentation==9.0.1 in /Users/iketutg/.pyenv/versions/3.10.8/lib/python3.10/site-packages (from pyobjc>=2.4->pyttsx3) (9.0.1)\n",
      "Requirement already satisfied: pyobjc-framework-AutomaticAssessmentConfiguration==9.0.1 in /Users/iketutg/.pyenv/versions/3.10.8/lib/python3.10/site-packages (from pyobjc>=2.4->pyttsx3) (9.0.1)\n",
      "Requirement already satisfied: pyobjc-framework-MediaAccessibility==9.0.1 in /Users/iketutg/.pyenv/versions/3.10.8/lib/python3.10/site-packages (from pyobjc>=2.4->pyttsx3) (9.0.1)\n",
      "Requirement already satisfied: pyobjc-framework-Accessibility==9.0.1 in /Users/iketutg/.pyenv/versions/3.10.8/lib/python3.10/site-packages (from pyobjc>=2.4->pyttsx3) (9.0.1)\n",
      "Requirement already satisfied: pyobjc-framework-SecurityInterface==9.0.1 in /Users/iketutg/.pyenv/versions/3.10.8/lib/python3.10/site-packages (from pyobjc>=2.4->pyttsx3) (9.0.1)\n",
      "Requirement already satisfied: pyobjc-framework-CryptoTokenKit==9.0.1 in /Users/iketutg/.pyenv/versions/3.10.8/lib/python3.10/site-packages (from pyobjc>=2.4->pyttsx3) (9.0.1)\n",
      "Requirement already satisfied: pyobjc-framework-FinderSync==9.0.1 in /Users/iketutg/.pyenv/versions/3.10.8/lib/python3.10/site-packages (from pyobjc>=2.4->pyttsx3) (9.0.1)\n",
      "Requirement already satisfied: pyobjc-framework-SecurityFoundation==9.0.1 in /Users/iketutg/.pyenv/versions/3.10.8/lib/python3.10/site-packages (from pyobjc>=2.4->pyttsx3) (9.0.1)\n",
      "Requirement already satisfied: pyobjc-framework-AdServices==9.0.1 in /Users/iketutg/.pyenv/versions/3.10.8/lib/python3.10/site-packages (from pyobjc>=2.4->pyttsx3) (9.0.1)\n",
      "Requirement already satisfied: pyobjc-framework-CoreMediaIO==9.0.1 in /Users/iketutg/.pyenv/versions/3.10.8/lib/python3.10/site-packages (from pyobjc>=2.4->pyttsx3) (9.0.1)\n",
      "Requirement already satisfied: pyobjc-framework-Automator==9.0.1 in /Users/iketutg/.pyenv/versions/3.10.8/lib/python3.10/site-packages (from pyobjc>=2.4->pyttsx3) (9.0.1)\n",
      "Requirement already satisfied: pyobjc-framework-DeviceCheck==9.0.1 in /Users/iketutg/.pyenv/versions/3.10.8/lib/python3.10/site-packages (from pyobjc>=2.4->pyttsx3) (9.0.1)\n",
      "Requirement already satisfied: pyobjc-framework-Collaboration==9.0.1 in /Users/iketutg/.pyenv/versions/3.10.8/lib/python3.10/site-packages (from pyobjc>=2.4->pyttsx3) (9.0.1)\n",
      "Requirement already satisfied: pyobjc-framework-MediaLibrary==9.0.1 in /Users/iketutg/.pyenv/versions/3.10.8/lib/python3.10/site-packages (from pyobjc>=2.4->pyttsx3) (9.0.1)\n",
      "Requirement already satisfied: pyobjc-framework-AudioVideoBridging==9.0.1 in /Users/iketutg/.pyenv/versions/3.10.8/lib/python3.10/site-packages (from pyobjc>=2.4->pyttsx3) (9.0.1)\n",
      "Requirement already satisfied: pyobjc-framework-Virtualization==9.0.1 in /Users/iketutg/.pyenv/versions/3.10.8/lib/python3.10/site-packages (from pyobjc>=2.4->pyttsx3) (9.0.1)\n",
      "Requirement already satisfied: pyobjc-framework-PreferencePanes==9.0.1 in /Users/iketutg/.pyenv/versions/3.10.8/lib/python3.10/site-packages (from pyobjc>=2.4->pyttsx3) (9.0.1)\n",
      "Requirement already satisfied: pyobjc-framework-GameCenter==9.0.1 in /Users/iketutg/.pyenv/versions/3.10.8/lib/python3.10/site-packages (from pyobjc>=2.4->pyttsx3) (9.0.1)\n",
      "Requirement already satisfied: pyobjc-framework-ImageCaptureCore==9.0.1 in /Users/iketutg/.pyenv/versions/3.10.8/lib/python3.10/site-packages (from pyobjc>=2.4->pyttsx3) (9.0.1)\n",
      "Requirement already satisfied: pyobjc-framework-CoreText==9.0.1 in /Users/iketutg/.pyenv/versions/3.10.8/lib/python3.10/site-packages (from pyobjc>=2.4->pyttsx3) (9.0.1)\n",
      "Requirement already satisfied: pyobjc-framework-MLCompute==9.0.1 in /Users/iketutg/.pyenv/versions/3.10.8/lib/python3.10/site-packages (from pyobjc>=2.4->pyttsx3) (9.0.1)\n",
      "Requirement already satisfied: pyobjc-framework-OpenDirectory==9.0.1 in /Users/iketutg/.pyenv/versions/3.10.8/lib/python3.10/site-packages (from pyobjc>=2.4->pyttsx3) (9.0.1)\n",
      "Requirement already satisfied: pyobjc-framework-Intents==9.0.1 in /Users/iketutg/.pyenv/versions/3.10.8/lib/python3.10/site-packages (from pyobjc>=2.4->pyttsx3) (9.0.1)\n",
      "Requirement already satisfied: pyobjc-framework-LaunchServices==9.0.1 in /Users/iketutg/.pyenv/versions/3.10.8/lib/python3.10/site-packages (from pyobjc>=2.4->pyttsx3) (9.0.1)\n",
      "Requirement already satisfied: pyobjc-framework-SystemExtensions==9.0.1 in /Users/iketutg/.pyenv/versions/3.10.8/lib/python3.10/site-packages (from pyobjc>=2.4->pyttsx3) (9.0.1)\n",
      "Requirement already satisfied: pyobjc-framework-Vision==9.0.1 in /Users/iketutg/.pyenv/versions/3.10.8/lib/python3.10/site-packages (from pyobjc>=2.4->pyttsx3) (9.0.1)\n",
      "Requirement already satisfied: pyobjc-framework-Metal==9.0.1 in /Users/iketutg/.pyenv/versions/3.10.8/lib/python3.10/site-packages (from pyobjc>=2.4->pyttsx3) (9.0.1)\n",
      "Requirement already satisfied: pyobjc-framework-FileProviderUI==9.0.1 in /Users/iketutg/.pyenv/versions/3.10.8/lib/python3.10/site-packages (from pyobjc>=2.4->pyttsx3) (9.0.1)\n",
      "Requirement already satisfied: pyobjc-framework-DiscRecordingUI==9.0.1 in /Users/iketutg/.pyenv/versions/3.10.8/lib/python3.10/site-packages (from pyobjc>=2.4->pyttsx3) (9.0.1)\n",
      "Requirement already satisfied: pyobjc-framework-ServiceManagement==9.0.1 in /Users/iketutg/.pyenv/versions/3.10.8/lib/python3.10/site-packages (from pyobjc>=2.4->pyttsx3) (9.0.1)\n",
      "Requirement already satisfied: pyobjc-framework-libdispatch==9.0.1 in /Users/iketutg/.pyenv/versions/3.10.8/lib/python3.10/site-packages (from pyobjc>=2.4->pyttsx3) (9.0.1)\n",
      "Requirement already satisfied: pyobjc-framework-Accounts==9.0.1 in /Users/iketutg/.pyenv/versions/3.10.8/lib/python3.10/site-packages (from pyobjc>=2.4->pyttsx3) (9.0.1)\n",
      "Requirement already satisfied: pyobjc-core==9.0.1 in /Users/iketutg/.pyenv/versions/3.10.8/lib/python3.10/site-packages (from pyobjc>=2.4->pyttsx3) (9.0.1)\n",
      "Requirement already satisfied: pyobjc-framework-DVDPlayback==9.0.1 in /Users/iketutg/.pyenv/versions/3.10.8/lib/python3.10/site-packages (from pyobjc>=2.4->pyttsx3) (9.0.1)\n",
      "Requirement already satisfied: pyobjc-framework-AppleScriptKit==9.0.1 in /Users/iketutg/.pyenv/versions/3.10.8/lib/python3.10/site-packages (from pyobjc>=2.4->pyttsx3) (9.0.1)\n",
      "Requirement already satisfied: pyobjc-framework-PassKit==9.0.1 in /Users/iketutg/.pyenv/versions/3.10.8/lib/python3.10/site-packages (from pyobjc>=2.4->pyttsx3) (9.0.1)\n",
      "Requirement already satisfied: pyobjc-framework-Network==9.0.1 in /Users/iketutg/.pyenv/versions/3.10.8/lib/python3.10/site-packages (from pyobjc>=2.4->pyttsx3) (9.0.1)\n",
      "Requirement already satisfied: pyobjc-framework-InputMethodKit==9.0.1 in /Users/iketutg/.pyenv/versions/3.10.8/lib/python3.10/site-packages (from pyobjc>=2.4->pyttsx3) (9.0.1)\n",
      "Requirement already satisfied: pyobjc-framework-MultipeerConnectivity==9.0.1 in /Users/iketutg/.pyenv/versions/3.10.8/lib/python3.10/site-packages (from pyobjc>=2.4->pyttsx3) (9.0.1)\n",
      "Requirement already satisfied: pyobjc-framework-GameplayKit==9.0.1 in /Users/iketutg/.pyenv/versions/3.10.8/lib/python3.10/site-packages (from pyobjc>=2.4->pyttsx3) (9.0.1)\n",
      "Requirement already satisfied: pyobjc-framework-MediaPlayer==9.0.1 in /Users/iketutg/.pyenv/versions/3.10.8/lib/python3.10/site-packages (from pyobjc>=2.4->pyttsx3) (9.0.1)\n",
      "Requirement already satisfied: pyobjc-framework-SyncServices==9.0.1 in /Users/iketutg/.pyenv/versions/3.10.8/lib/python3.10/site-packages (from pyobjc>=2.4->pyttsx3) (9.0.1)\n",
      "\n",
      "\u001b[1m[\u001b[0m\u001b[34;49mnotice\u001b[0m\u001b[1;39;49m]\u001b[0m\u001b[39;49m A new release of pip is available: \u001b[0m\u001b[31;49m23.0\u001b[0m\u001b[39;49m -> \u001b[0m\u001b[32;49m23.0.1\u001b[0m\n",
      "\u001b[1m[\u001b[0m\u001b[34;49mnotice\u001b[0m\u001b[1;39;49m]\u001b[0m\u001b[39;49m To update, run: \u001b[0m\u001b[32;49mpip install --upgrade pip\u001b[0m\n",
      "Note: you may need to restart the kernel to use updated packages.\n"
     ]
    }
   ],
   "source": [
    "pip install pyttsx3"
   ]
  },
  {
   "cell_type": "code",
   "execution_count": 141,
   "metadata": {},
   "outputs": [],
   "source": [
    "import pyttsx3 \n",
    "\n",
    "engine = pyttsx3.init('nsss')\n"
   ]
  },
  {
   "cell_type": "code",
   "execution_count": 142,
   "metadata": {},
   "outputs": [],
   "source": [
    "voices = engine.getProperty('voices') "
   ]
  },
  {
   "cell_type": "code",
   "execution_count": 143,
   "metadata": {},
   "outputs": [],
   "source": [
    "engine.setProperty('voices', voices[0].id)"
   ]
  },
  {
   "cell_type": "code",
   "execution_count": 144,
   "metadata": {},
   "outputs": [],
   "source": [
    "def bicara(text):\n",
    "    engine.say(text)\n",
    "    engine.runAndWait()"
   ]
  },
  {
   "cell_type": "code",
   "execution_count": 145,
   "metadata": {},
   "outputs": [],
   "source": [
    "bicara(\"Halo python apa kabar\")"
   ]
  },
  {
   "cell_type": "code",
   "execution_count": 146,
   "metadata": {},
   "outputs": [
    {
     "ename": "SyntaxError",
     "evalue": "unterminated string literal (detected at line 12) (4205128470.py, line 12)",
     "output_type": "error",
     "traceback": [
      "\u001b[0;36m  Cell \u001b[0;32mIn[146], line 12\u001b[0;36m\u001b[0m\n\u001b[0;31m    // Our Module's Function Definition struct\u001b[0m\n\u001b[0m                 ^\u001b[0m\n\u001b[0;31mSyntaxError\u001b[0m\u001b[0;31m:\u001b[0m unterminated string literal (detected at line 12)\n"
     ]
    }
   ],
   "source": [
    "## Step 1 : Membuat file modulc_hello.c \n",
    "\n",
    "#include <Python.h>\n",
    "\n",
    "//Function 1: A simple 'hello world' function\n",
    "static PyObject* helloworld(PyObject* self, PyObject* args)\n",
    "{\n",
    "    printf(\"Hello World\\n\");\n",
    "    return Py_None;\n",
    "}\n",
    "\n",
    "// Our Module's Function Definition struct\n",
    "// We require this `NULL` to signal the end of our method\n",
    "// definition\n",
    "static PyMethodDef myMethods[] = {\n",
    "    { \"helloworld\", helloworld, METH_NOARGS, \"Prints Hello World\" },\n",
    "    { NULL, NULL, 0, NULL }\n",
    "};\n",
    "\n",
    "// Our Module Definition struct\n",
    "static struct PyModuleDef myModule = {\n",
    "    PyModuleDef_HEAD_INIT,\n",
    "    \"myModuleC\",\n",
    "    \"Test Module\",\n",
    "    -1,\n",
    "    myMethods\n",
    "};\n",
    "\n",
    "// Initializes our module using our above struct\n",
    "PyMODINIT_FUNC PyInit_myModule(void)\n",
    "{\n",
    "    return PyModule_Create(&myModule);\n",
    "}\n"
   ]
  },
  {
   "cell_type": "code",
   "execution_count": null,
   "metadata": {},
   "outputs": [],
   "source": [
    "## Step 2 : Create Setup.py \n",
    "\n",
    "from distutils.core import setup, Extension\n",
    "setup(name = 'myModuleC', version = '1.0',  \\\n",
    "   ext_modules = [Extension('myModuleC', ['modulc_hello.c'])])"
   ]
  },
  {
   "attachments": {},
   "cell_type": "markdown",
   "metadata": {},
   "source": [
    "### Building and Installing our Module\n",
    "\n",
    "1. build \n",
    "       $>python setup.py build \n",
    "\n",
    "        Output : modulc_hello.o   \n",
    "                 myModuleC.cpython-39-darwin.so\n",
    "\n",
    "2. install \n",
    "        $>python setup.py install \n",
    "\n",
    "          running install\n",
    "          running build\n",
    "          running build_ext\n",
    "          running install_lib\n",
    "          copying build/lib.macosx-10.14-x86_64-3.9/myModuleC.cpython-39-darwin.so -> .pyenv/versions/django-rest/lib/python3.9/site-packages \n",
    "          running install_egg_info\n",
    "        "
   ]
  },
  {
   "attachments": {},
   "cell_type": "markdown",
   "metadata": {},
   "source": [
    "$> python \n",
    "Python 3.9.0 (default, Jan 11 2021, 21:20:16) \n",
    "[Clang 10.0.1 (clang-1001.0.46.4)] on darwin\n",
    "Type \"help\", \"copyright\", \"credits\" or \"license\" for more information.\n",
    ">>> import myModuleC\n",
    ">>> myModuleC.helloworld()\n",
    "Hello World IKG\n",
    ">>> "
   ]
  },
  {
   "cell_type": "markdown",
   "metadata": {},
   "source": []
  }
 ],
 "metadata": {
  "kernelspec": {
   "display_name": "Python 3",
   "language": "python",
   "name": "python3"
  },
  "language_info": {
   "codemirror_mode": {
    "name": "ipython",
    "version": 3
   },
   "file_extension": ".py",
   "mimetype": "text/x-python",
   "name": "python",
   "nbconvert_exporter": "python",
   "pygments_lexer": "ipython3",
   "version": "3.10.8"
  },
  "orig_nbformat": 4,
  "vscode": {
   "interpreter": {
    "hash": "69011eff3314b354f42a2ba40b1ddc2bfa3dd9877deb2573d0d9019d6ff40d2a"
   }
  }
 },
 "nbformat": 4,
 "nbformat_minor": 2
}
