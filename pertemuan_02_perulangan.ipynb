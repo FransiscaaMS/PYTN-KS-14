{
 "cells": [
  {
   "attachments": {},
   "cell_type": "markdown",
   "metadata": {},
   "source": [
    "# 02 Perulangan dan Percabangan"
   ]
  },
  {
   "attachments": {},
   "cell_type": "markdown",
   "metadata": {},
   "source": [
    "- Comporation \n",
    "- Operator Logika \n"
   ]
  },
  {
   "attachments": {},
   "cell_type": "markdown",
   "metadata": {},
   "source": [
    "#### Comparison Operators \n",
    "\n",
    "- membandingkan dua nilai \n",
    "- dengan operator relasi\n",
    "  \n",
    "|Operator |\tSimbol |\n",
    "|:--------|:-------|\n",
    "|Lebih Besar|\t> |\n",
    "| Lebih Kecil |\t< |\n",
    "| Sama Dengan\t| == | \n",
    "| Tidak Sama dengan |\t!= |\n",
    "| Lebih Besar Sama dengan |\t>= |\n",
    "| Lebih Kecil Sama dengan |\t<= |"
   ]
  },
  {
   "attachments": {},
   "cell_type": "markdown",
   "metadata": {},
   "source": [
    "#### Operator Logika \n",
    "- operasi logika  ( AND , OR , NOT )\n",
    "\n",
    "|Nama |\tSimbol di Python |\n",
    "|:----|:----------|\n",
    "| Logika AND |\tand |\n",
    "| Logika OR\t| or |\n",
    "| Negasi/kebalikan |\tnot |\n",
    "\n",
    "Contoh : \"and\" \n",
    "\n",
    "|x   and  y | result | \n",
    "|----------:|-----:|\n",
    "|True and True | True |\n",
    "|True and False | False |\n",
    "|False and False | False   | \n",
    "|False and True | False   | \n",
    "\n",
    "Contoh : \"or\" \n",
    "\n",
    "|x   or  y | result | \n",
    "|----------:|-----:|\n",
    "|True or True | True |\n",
    "|True or False | True |\n",
    "|False or True | True |\n",
    "|False or False | False   | \n"
   ]
  },
  {
   "attachments": {},
   "cell_type": "markdown",
   "metadata": {},
   "source": [
    "Grouping statement \n",
    "\n",
    "![alt text](https://i.ibb.co/9WGscpd/Ifstatement.png \"Grouping statement\")"
   ]
  },
  {
   "attachments": {},
   "cell_type": "markdown",
   "metadata": {},
   "source": [
    "## Python if else"
   ]
  },
  {
   "attachments": {},
   "cell_type": "markdown",
   "metadata": {},
   "source": [
    "1. Python if Statement"
   ]
  },
  {
   "attachments": {},
   "cell_type": "markdown",
   "metadata": {},
   "source": [
    "<img src=\"images_02/01_condition_true.png\" width=\"400\" align=\"center\">"
   ]
  },
  {
   "cell_type": "code",
   "execution_count": null,
   "metadata": {},
   "outputs": [],
   "source": [
    "number = 10 \n",
    "if number > 0 : \n",
    "    print(\"Angka Positif\")\n",
    "    print(\"didalam statement if\")\n",
    "print(\"luar dari if statment\")"
   ]
  },
  {
   "cell_type": "code",
   "execution_count": null,
   "metadata": {},
   "outputs": [],
   "source": [
    "# inputan\n",
    "transaksi = 10000\n",
    "grade = 70 \n",
    "\n",
    "### logic discount ### \n",
    "discount = 10 \n",
    "if grade > 70: \n",
    "    discount = 50\n",
    "### logic ###     \n",
    "\n",
    "total_transaksi = transaksi - discount\n",
    "print(total_transaksi)    "
   ]
  },
  {
   "attachments": {},
   "cell_type": "markdown",
   "metadata": {},
   "source": [
    "<img src=\"images_02/02_condition_false.png\" width=\"400\" align=\"center\">"
   ]
  },
  {
   "cell_type": "code",
   "execution_count": null,
   "metadata": {},
   "outputs": [],
   "source": [
    "number = -5 \n",
    "if number > 0: \n",
    "    print(\"angka positif\")\n",
    "\n",
    "print(\"di luar dari kondisi if\")"
   ]
  },
  {
   "attachments": {},
   "cell_type": "markdown",
   "metadata": {},
   "source": [
    "2. Python if else stament"
   ]
  },
  {
   "attachments": {},
   "cell_type": "markdown",
   "metadata": {},
   "source": [
    "<img src=\"images_02/03_ifelse_true.png\" width=\"400\" align=\"center\">"
   ]
  },
  {
   "cell_type": "code",
   "execution_count": null,
   "metadata": {},
   "outputs": [],
   "source": [
    "#\n",
    "number = 10 \n",
    "if number > 0: \n",
    "    print(\"Angka positif\")\n",
    "else:\n",
    "    print(\"Angka Negatif\")\n",
    "\n",
    "\n",
    "\n",
    "\n",
    "\n",
    "    print(\"diluar dari kondisi if else\")"
   ]
  },
  {
   "cell_type": "markdown",
   "metadata": {},
   "source": []
  },
  {
   "attachments": {},
   "cell_type": "markdown",
   "metadata": {},
   "source": [
    "<img src=\"images_02/04_ifelse_false.png\" width=\"400\" align=\"center\">"
   ]
  },
  {
   "cell_type": "code",
   "execution_count": null,
   "metadata": {},
   "outputs": [],
   "source": [
    "#\n",
    "number = -5 \n",
    "if number > 0: \n",
    "    print(\"Angka positif\")\n",
    "else:\n",
    "    print(\"Angka Negatif\")\n",
    "print(\"diluar dari kondisi if else\")"
   ]
  },
  {
   "attachments": {},
   "cell_type": "markdown",
   "metadata": {},
   "source": [
    "3. If elif else statement"
   ]
  },
  {
   "attachments": {},
   "cell_type": "markdown",
   "metadata": {},
   "source": [
    "<img src=\"images_02/05_if_elif_else.png\" width=\"800\" align=\"center\">"
   ]
  },
  {
   "cell_type": "code",
   "execution_count": null,
   "metadata": {},
   "outputs": [],
   "source": [
    "number = 0 \n",
    "if number > 0: \n",
    "    print(\"Angka positif\")\n",
    "elif number < 0:\n",
    "    print(\"Angka Negatif\")\n",
    "else: \n",
    "    print(\"Angka 0\") \n",
    "       \n",
    "print(\"diluar dari kondisi if else\")"
   ]
  },
  {
   "attachments": {},
   "cell_type": "markdown",
   "metadata": {},
   "source": [
    "4. Nested if statement "
   ]
  },
  {
   "cell_type": "code",
   "execution_count": null,
   "metadata": {},
   "outputs": [],
   "source": [
    "## if stament \n",
    "if condition1: \n",
    "    #statement pertama\n",
    "    if condition2:\n",
    "        # stamtent kedua \n",
    "        if condition3:\n",
    "            # statement ketiga \n",
    "            if condition4:\n",
    "                # statment ke empat \n",
    "                "
   ]
  },
  {
   "cell_type": "code",
   "execution_count": null,
   "metadata": {},
   "outputs": [],
   "source": [
    "nilai = 59 \n",
    "absen = 8\n",
    "sopan = True\n",
    "\n",
    "if nilai < 60: \n",
    "    print(\"dipertimbangkan\")\n",
    "    if absen < 7:\n",
    "        print(\"Lulus dengan pertimbangan\")\n",
    "    else:\n",
    "        if sopan: \n",
    "            print(\"Karena bebuat baik, maka lulus\")\n",
    "        else:    \n",
    "            print(\"Tidak lulus\")    \n",
    "else:\n",
    "    print(\"Lulus\") "
   ]
  },
  {
   "cell_type": "markdown",
   "metadata": {},
   "source": []
  },
  {
   "cell_type": "code",
   "execution_count": null,
   "metadata": {},
   "outputs": [],
   "source": [
    "x=7 \n",
    "y=6\n",
    "i = 2 \n",
    "j = 3\n",
    "if 'foo' in ['foo','bar','baz']:\n",
    "    print(\"foo ditemukan\")\n",
    "    \n",
    "    if x > y :\n",
    "        print(\"Nilai x lebih besar dari Y\")\n",
    "    \n",
    "    print(\"kondision foo in list\")\n",
    "    \n",
    "    if i < j:\n",
    "        print(\"Nilai i lebih besar dari j\")\n",
    "        \n",
    "    print(\"stament terakhir if\")\n",
    "print(\"Selesai\")\n",
    "    "
   ]
  },
  {
   "attachments": {},
   "cell_type": "markdown",
   "metadata": {},
   "source": [
    "### Python Tenary Operation "
   ]
  },
  {
   "attachments": {},
   "cell_type": "markdown",
   "metadata": {},
   "source": [
    " <expr-1-benar> if <condition> else <exp-2-salah>"
   ]
  },
  {
   "cell_type": "code",
   "execution_count": null,
   "metadata": {},
   "outputs": [],
   "source": [
    "print(\"Hello saya benar\") if \"h\" in \"Helllooooo\" else print(\"Hello kondisi salah\")"
   ]
  },
  {
   "cell_type": "code",
   "execution_count": null,
   "metadata": {},
   "outputs": [],
   "source": [
    "raining = True \n",
    "\n",
    "print(\"Let's go to the ...\", \"beach\" if not  raining else \"Library\")"
   ]
  },
  {
   "cell_type": "code",
   "execution_count": null,
   "metadata": {},
   "outputs": [],
   "source": [
    "umur = 10 \n",
    "status_vaksin = \"belum boleh vaksin\" if umur < 5 else \"Sudah bisa vaksin\"\n",
    "\n",
    "print(status_vaksin)"
   ]
  },
  {
   "attachments": {},
   "cell_type": "markdown",
   "metadata": {},
   "source": [
    "Python for loop"
   ]
  },
  {
   "attachments": {},
   "cell_type": "markdown",
   "metadata": {},
   "source": [
    "<img src=\"images_02/06_for_loop.png\" width=\"400\" align=\"center\">"
   ]
  },
  {
   "attachments": {},
   "cell_type": "markdown",
   "metadata": {},
   "source": [
    "looping in list"
   ]
  },
  {
   "cell_type": "code",
   "execution_count": null,
   "metadata": {},
   "outputs": [],
   "source": [
    "languages = ['Golang','Python','Java','C#','Rust','Vlang']\n",
    "print(languages)\n",
    "\n",
    "\n",
    "for lang in languages:\n",
    "    print(\"Bahasa pemrograman \")\n",
    "    print(lang)"
   ]
  },
  {
   "attachments": {},
   "cell_type": "markdown",
   "metadata": {},
   "source": [
    "looping in dictonary "
   ]
  },
  {
   "cell_type": "code",
   "execution_count": null,
   "metadata": {},
   "outputs": [],
   "source": [
    "mahasiswa = {\"Nim\":\"1234567\",\"Nama\":\"IKetut Gunawan\",\"Nilai\":90}\n",
    "\n",
    "for mhs in mahasiswa:\n",
    "    print(mhs)\n",
    "    print(mahasiswa[mhs])"
   ]
  },
  {
   "cell_type": "code",
   "execution_count": null,
   "metadata": {},
   "outputs": [],
   "source": [
    "for k , v in mahasiswa.items():\n",
    "    print(k , \":\", v)"
   ]
  },
  {
   "attachments": {},
   "cell_type": "markdown",
   "metadata": {},
   "source": [
    "Range Function"
   ]
  },
  {
   "cell_type": "code",
   "execution_count": null,
   "metadata": {},
   "outputs": [],
   "source": [
    "values = range(5)\n",
    "print(values)\n",
    "for x in values:\n",
    "    print(x)"
   ]
  },
  {
   "cell_type": "code",
   "execution_count": null,
   "metadata": {},
   "outputs": [],
   "source": [
    "for x in (0,1,2,3,4):\n",
    "    print(x)"
   ]
  },
  {
   "cell_type": "code",
   "execution_count": null,
   "metadata": {},
   "outputs": [],
   "source": [
    "angka = range(10)\n",
    "\n",
    "for i in angka:\n",
    "    if i % 2 == 0 :\n",
    "        print(i , \"Genap\")\n",
    "    else: \n",
    "        print(i,\"Ganjil\")    "
   ]
  },
  {
   "cell_type": "code",
   "execution_count": null,
   "metadata": {},
   "outputs": [],
   "source": [
    "digits = [0, 1, 2, 3, 4, 5]\n",
    "\n",
    "for i in digits:\n",
    "    print(i)\n",
    "else :\n",
    "    print (\"No item left\")"
   ]
  },
  {
   "attachments": {},
   "cell_type": "markdown",
   "metadata": {},
   "source": [
    "### Altering for loop behavior \n"
   ]
  },
  {
   "attachments": {},
   "cell_type": "markdown",
   "metadata": {},
   "source": [
    "![alt text](https://i.ibb.co/QFLdx58/breakcontinue.png \"Grouping statement\")"
   ]
  },
  {
   "attachments": {},
   "cell_type": "markdown",
   "metadata": {},
   "source": [
    "<img src=\"images_02/08_break.png\" width=\"400\" align=\"center\">"
   ]
  },
  {
   "cell_type": "code",
   "execution_count": null,
   "metadata": {},
   "outputs": [],
   "source": [
    "for i in range(5):\n",
    "    print(\"Loop in  range\")\n",
    "    if i == 3:\n",
    "        break\n",
    "    \n",
    "    print(\"Cetak angka ke \",i)"
   ]
  },
  {
   "cell_type": "code",
   "execution_count": null,
   "metadata": {},
   "outputs": [],
   "source": [
    "i = 1\n",
    "for varlist  in ['foo','bar','baz','qmux']:\n",
    "    print(varlist)\n",
    "    if 'z' in varlist:\n",
    "        break\n",
    "    \n",
    "    print(i)\n",
    "    i +=1\n",
    "    \n",
    "print(i)    "
   ]
  },
  {
   "attachments": {},
   "cell_type": "markdown",
   "metadata": {},
   "source": [
    "<img src=\"images_02/09_continue.png\" width=\"400\" align=\"center\">"
   ]
  },
  {
   "cell_type": "markdown",
   "metadata": {},
   "source": []
  },
  {
   "cell_type": "code",
   "execution_count": null,
   "metadata": {},
   "outputs": [],
   "source": [
    "for varlist  in ['foo','bar','baz','qmux']:\n",
    "    print(varlist)\n",
    "    if 'r' in varlist:\n",
    "        print(\"r ditemukan\")\n",
    "        continue\n",
    "    \n",
    "    print(\"Kondisi dibawah continue\")\n",
    "    \n",
    "print(\"Selesai\")"
   ]
  },
  {
   "cell_type": "code",
   "execution_count": null,
   "metadata": {},
   "outputs": [],
   "source": [
    "i = 1 \n",
    "n =5 \n",
    "while i <= n:\n",
    "    print(i)\n",
    "    i +=1 "
   ]
  },
  {
   "cell_type": "code",
   "execution_count": 67,
   "metadata": {},
   "outputs": [
    {
     "name": "stdout",
     "output_type": "stream",
     "text": [
      "didalam while\n",
      "didalam while\n",
      "didalam while\n",
      "inside while else\n"
     ]
    }
   ],
   "source": [
    "counter = 1\n",
    "while counter < 4:\n",
    "    print(\"didalam while\")\n",
    "    counter += 1\n",
    "else:\n",
    "    print(\"inside while else\")    "
   ]
  },
  {
   "cell_type": "code",
   "execution_count": 68,
   "metadata": {},
   "outputs": [
    {
     "name": "stdout",
     "output_type": "stream",
     "text": [
      "cat\n",
      "> gug\n",
      "> meow\n",
      "dog\n",
      "> gug\n",
      "> meow\n"
     ]
    }
   ],
   "source": [
    "x = ['cat','dog']\n",
    "\n",
    "while len(x):\n",
    "    print(x.pop(0))\n",
    "    \n",
    "    y = ['gug','meow']\n",
    "    \n",
    "    while(len(y)):\n",
    "        print('>', y.pop(0))\n",
    "    "
   ]
  },
  {
   "cell_type": "code",
   "execution_count": 69,
   "metadata": {},
   "outputs": [
    {
     "name": "stdout",
     "output_type": "stream",
     "text": [
      "3\n",
      "2\n",
      "1\n",
      "0\n"
     ]
    }
   ],
   "source": [
    "# one line while\n",
    "x = 4\n",
    "while x > 0:  x -=1; print(x)"
   ]
  },
  {
   "cell_type": "code",
   "execution_count": 70,
   "metadata": {},
   "outputs": [
    {
     "name": "stdout",
     "output_type": "stream",
     "text": [
      "Halo\n",
      "hai\n",
      "stop\n"
     ]
    }
   ],
   "source": [
    "while True: \n",
    "    msg = input(\"Ketikan karakter :\")\n",
    "    print(msg)\n",
    "    \n",
    "    if msg == \"stop\":\n",
    "        break"
   ]
  },
  {
   "cell_type": "code",
   "execution_count": 71,
   "metadata": {},
   "outputs": [],
   "source": [
    "def SwitchExamples(args):\n",
    "    switch = {\n",
    "        0 : \"Angka Nol\",\n",
    "        1 : \"Angka Satu\",\n",
    "        2 : \"Angka 2\"\n",
    "    }\n",
    "    return switch.get(args, \"Nothing\" )"
   ]
  },
  {
   "cell_type": "code",
   "execution_count": 75,
   "metadata": {},
   "outputs": [
    {
     "name": "stdout",
     "output_type": "stream",
     "text": [
      "Angka Nol\n"
     ]
    }
   ],
   "source": [
    "hasil = SwitchExamples(0)\n",
    "print(hasil)"
   ]
  },
  {
   "cell_type": "code",
   "execution_count": 86,
   "metadata": {},
   "outputs": [
    {
     "name": "stdout",
     "output_type": "stream",
     "text": [
      "<class 'str'>\n",
      "18C\n",
      "degree :  18\n",
      "format degree : 18 \n",
      "Convertion :  C\n",
      "Celcius\n",
      "Tempartur adalah :  64 derajat\n"
     ]
    }
   ],
   "source": [
    "hasil = 0 \n",
    "temp = input(\"Ketik temparatur yang ingin di konversi eg. 40F, 18C, 0C: \")\n",
    "\n",
    "print(type(temp))\n",
    "print(temp)\n",
    "degree = int(temp[:-1])\n",
    "print(\"degree : \",degree)\n",
    "print(f\"format degree : {degree} \")\n",
    "\n",
    "convertion = temp[-1]\n",
    "print(\"Convertion : \",convertion)\n",
    "\n",
    "if convertion == 'C':\n",
    "    print(\"Celcius\")\n",
    "    hasil = int(round(9 * degree) / 5 + 32)\n",
    "elif convertion == 'F':\n",
    "    print(\"F\")\n",
    "    hasil = int(round(degree - 32) * 5 / 9 )\n",
    "else: \n",
    "    print(\"Yang anda input salah\")\n",
    "    \n",
    "print(\"Tempartur adalah : \", hasil, \"derajat\")"
   ]
  },
  {
   "attachments": {},
   "cell_type": "markdown",
   "metadata": {},
   "source": [
    "*\n",
    "* *\n",
    "* * *\n",
    "* * * *\n",
    "* * * * *"
   ]
  },
  {
   "cell_type": "code",
   "execution_count": 87,
   "metadata": {},
   "outputs": [
    {
     "name": "stdout",
     "output_type": "stream",
     "text": [
      "* \n",
      "* * \n",
      "* * * \n",
      "* * * * \n",
      "* * * * * \n"
     ]
    }
   ],
   "source": [
    "for x in range(1,6):\n",
    "    for y in range(x):\n",
    "        print('*', end=' ')\n",
    "    print()\n",
    "    "
   ]
  }
 ],
 "metadata": {
  "kernelspec": {
   "display_name": "Python 3",
   "language": "python",
   "name": "python3"
  },
  "language_info": {
   "codemirror_mode": {
    "name": "ipython",
    "version": 3
   },
   "file_extension": ".py",
   "mimetype": "text/x-python",
   "name": "python",
   "nbconvert_exporter": "python",
   "pygments_lexer": "ipython3",
   "version": "3.10.8"
  },
  "orig_nbformat": 4,
  "vscode": {
   "interpreter": {
    "hash": "69011eff3314b354f42a2ba40b1ddc2bfa3dd9877deb2573d0d9019d6ff40d2a"
   }
  }
 },
 "nbformat": 4,
 "nbformat_minor": 2
}
